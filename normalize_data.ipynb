{
 "cells": [
  {
   "cell_type": "markdown",
   "source": [
    "This notebook takes in the raw data from each paper, and puts everything together in a standard format, so we can run further analysis."
   ],
   "metadata": {
    "collapsed": false
   }
  },
  {
   "cell_type": "code",
   "execution_count": 202,
   "metadata": {
    "collapsed": true
   },
   "outputs": [],
   "source": [
    "import numpy as np\n",
    "import pandas as pd"
   ]
  },
  {
   "cell_type": "code",
   "execution_count": 203,
   "outputs": [],
   "source": [
    "# FINAL LIST\n",
    "\"\"\"\n",
    "NP Type (includes QD)\n",
    "\n",
    "QD Concentration (nMol)\n",
    "QD Core\n",
    "QD Shell\n",
    "QD Surface Ligand\n",
    "\n",
    "Zeta Potential\n",
    "Hydrodynamic size\n",
    "Diameter/Size\n",
    "Surface area\n",
    "Surface charge\n",
    "Shape\n",
    "\n",
    "Surface coating\n",
    "\n",
    "Surface reactivity\n",
    "Aggregation\n",
    "\n",
    "Molecular Weight\n",
    "Ionic radius\n",
    "Electronegativity\n",
    "\n",
    "Emission Wavelength\n",
    "\n",
    "Conduction band energy\n",
    "Number of oxygen atoms\n",
    "\n",
    "Cell origin (species)\n",
    "Cell origin (organ)\n",
    "Cell origin (anatomical)\n",
    "Cell origin (primary or cell-line)\n",
    "Cell name\n",
    "\n",
    "Concentration/dose\n",
    "\n",
    "Assay\n",
    "\n",
    "Exposure Time\n",
    "Dose\n",
    "\"\"\"\n",
    "None"
   ],
   "metadata": {
    "collapsed": false
   }
  },
  {
   "cell_type": "markdown",
   "source": [
    "## Pre-processing\n",
    "We start by extracting and normalizing all the features of relevance for each of our datasets."
   ],
   "metadata": {
    "collapsed": false
   }
  },
  {
   "cell_type": "code",
   "execution_count": 204,
   "outputs": [
    {
     "data": {
      "text/plain": "      Diameter Surface charge (categorical)  Exposure time  \\\n0          3.4                     Negative           22.0   \n1          5.0                     Negative           22.0   \n2          9.5                     Negative           22.0   \n3          3.4                     Negative           22.0   \n4          5.0                     Negative           22.0   \n...        ...                          ...            ...   \n3023       4.9                   Zwitterion           48.0   \n3024       5.5                      Neutral           24.0   \n3025       5.5                      Neutral           48.0   \n3026       5.5                      Neutral           24.0   \n3027       5.5                      Neutral           48.0   \n\n     Cell origin (species) Cell origin (organ) Cell origin (anatomical)  \\\n0                   Human   Bronchial-tracheal               Epithelial   \n1                   Human   Bronchial-tracheal               Epithelial   \n2                   Human   Bronchial-tracheal               Epithelial   \n3                   Human   Bronchial-tracheal               Epithelial   \n4                   Human   Bronchial-tracheal               Epithelial   \n...                    ...                 ...                      ...   \n3023                Human               Breast               Epithelial   \n3024                Human               Cervix               Epithelial   \n3025                Human               Cervix               Epithelial   \n3026                Human               Cervix               Epithelial   \n3027                Human               Cervix               Epithelial   \n\n     Cell origin (primary or cell-line) Cell name  QD Concentration QD Core  \\\n0                               Primary      NHBE            2300.0    CdSe   \n1                               Primary      NHBE             720.0    CdSe   \n2                               Primary      NHBE             100.0    CdSe   \n3                               Primary      NHBE            2300.0    CdSe   \n4                               Primary      NHBE             720.0    CdSe   \n...                                 ...       ...               ...     ...   \n3023                          Cell-line     KPL-4              50.0  CdSeTe   \n3024                          Cell-line      HeLa              20.0    CdSe   \n3025                          Cell-line      HeLa              20.0    CdSe   \n3026                          Cell-line      HeLa              20.0    CdSe   \n3027                          Cell-line      HeLa              20.0    CdSe   \n\n      QD Shell  QD Emission wavelength QD Surface ligand Assay  Target  \\\n0     No-shell                     NaN        Alkylthiol   WST   0.250   \n1     No-shell                     NaN        Alkylthiol   WST   0.610   \n2     No-shell                     NaN        Alkylthiol   WST   0.830   \n3     No-shell                     NaN        Alkylthiol   WST   1.350   \n4     No-shell                     NaN        Alkylthiol   WST   0.830   \n...        ...                     ...               ...   ...     ...   \n3023       CdS                   830.0         Aminoacid   MTT   0.426   \n3024       ZnS                   605.0             Lipid   MTT   0.720   \n3025       ZnS                   605.0             Lipid   MTT   0.680   \n3026       ZnS                   605.0             Lipid   MTT   0.730   \n3027       ZnS                   605.0             Lipid   MTT   0.700   \n\n           Source NP Type  \n0     Bilal, 2019      QD  \n1     Bilal, 2019      QD  \n2     Bilal, 2019      QD  \n3     Bilal, 2019      QD  \n4     Bilal, 2019      QD  \n...           ...     ...  \n3023  Bilal, 2019      QD  \n3024  Bilal, 2019      QD  \n3025  Bilal, 2019      QD  \n3026  Bilal, 2019      QD  \n3027  Bilal, 2019      QD  \n\n[3028 rows x 17 columns]",
      "text/html": "<div>\n<style scoped>\n    .dataframe tbody tr th:only-of-type {\n        vertical-align: middle;\n    }\n\n    .dataframe tbody tr th {\n        vertical-align: top;\n    }\n\n    .dataframe thead th {\n        text-align: right;\n    }\n</style>\n<table border=\"1\" class=\"dataframe\">\n  <thead>\n    <tr style=\"text-align: right;\">\n      <th></th>\n      <th>Diameter</th>\n      <th>Surface charge (categorical)</th>\n      <th>Exposure time</th>\n      <th>Cell origin (species)</th>\n      <th>Cell origin (organ)</th>\n      <th>Cell origin (anatomical)</th>\n      <th>Cell origin (primary or cell-line)</th>\n      <th>Cell name</th>\n      <th>QD Concentration</th>\n      <th>QD Core</th>\n      <th>QD Shell</th>\n      <th>QD Emission wavelength</th>\n      <th>QD Surface ligand</th>\n      <th>Assay</th>\n      <th>Target</th>\n      <th>Source</th>\n      <th>NP Type</th>\n    </tr>\n  </thead>\n  <tbody>\n    <tr>\n      <th>0</th>\n      <td>3.4</td>\n      <td>Negative</td>\n      <td>22.0</td>\n      <td>Human</td>\n      <td>Bronchial-tracheal</td>\n      <td>Epithelial</td>\n      <td>Primary</td>\n      <td>NHBE</td>\n      <td>2300.0</td>\n      <td>CdSe</td>\n      <td>No-shell</td>\n      <td>NaN</td>\n      <td>Alkylthiol</td>\n      <td>WST</td>\n      <td>0.250</td>\n      <td>Bilal, 2019</td>\n      <td>QD</td>\n    </tr>\n    <tr>\n      <th>1</th>\n      <td>5.0</td>\n      <td>Negative</td>\n      <td>22.0</td>\n      <td>Human</td>\n      <td>Bronchial-tracheal</td>\n      <td>Epithelial</td>\n      <td>Primary</td>\n      <td>NHBE</td>\n      <td>720.0</td>\n      <td>CdSe</td>\n      <td>No-shell</td>\n      <td>NaN</td>\n      <td>Alkylthiol</td>\n      <td>WST</td>\n      <td>0.610</td>\n      <td>Bilal, 2019</td>\n      <td>QD</td>\n    </tr>\n    <tr>\n      <th>2</th>\n      <td>9.5</td>\n      <td>Negative</td>\n      <td>22.0</td>\n      <td>Human</td>\n      <td>Bronchial-tracheal</td>\n      <td>Epithelial</td>\n      <td>Primary</td>\n      <td>NHBE</td>\n      <td>100.0</td>\n      <td>CdSe</td>\n      <td>No-shell</td>\n      <td>NaN</td>\n      <td>Alkylthiol</td>\n      <td>WST</td>\n      <td>0.830</td>\n      <td>Bilal, 2019</td>\n      <td>QD</td>\n    </tr>\n    <tr>\n      <th>3</th>\n      <td>3.4</td>\n      <td>Negative</td>\n      <td>22.0</td>\n      <td>Human</td>\n      <td>Bronchial-tracheal</td>\n      <td>Epithelial</td>\n      <td>Primary</td>\n      <td>NHBE</td>\n      <td>2300.0</td>\n      <td>CdSe</td>\n      <td>No-shell</td>\n      <td>NaN</td>\n      <td>Alkylthiol</td>\n      <td>WST</td>\n      <td>1.350</td>\n      <td>Bilal, 2019</td>\n      <td>QD</td>\n    </tr>\n    <tr>\n      <th>4</th>\n      <td>5.0</td>\n      <td>Negative</td>\n      <td>22.0</td>\n      <td>Human</td>\n      <td>Bronchial-tracheal</td>\n      <td>Epithelial</td>\n      <td>Primary</td>\n      <td>NHBE</td>\n      <td>720.0</td>\n      <td>CdSe</td>\n      <td>No-shell</td>\n      <td>NaN</td>\n      <td>Alkylthiol</td>\n      <td>WST</td>\n      <td>0.830</td>\n      <td>Bilal, 2019</td>\n      <td>QD</td>\n    </tr>\n    <tr>\n      <th>...</th>\n      <td>...</td>\n      <td>...</td>\n      <td>...</td>\n      <td>...</td>\n      <td>...</td>\n      <td>...</td>\n      <td>...</td>\n      <td>...</td>\n      <td>...</td>\n      <td>...</td>\n      <td>...</td>\n      <td>...</td>\n      <td>...</td>\n      <td>...</td>\n      <td>...</td>\n      <td>...</td>\n      <td>...</td>\n    </tr>\n    <tr>\n      <th>3023</th>\n      <td>4.9</td>\n      <td>Zwitterion</td>\n      <td>48.0</td>\n      <td>Human</td>\n      <td>Breast</td>\n      <td>Epithelial</td>\n      <td>Cell-line</td>\n      <td>KPL-4</td>\n      <td>50.0</td>\n      <td>CdSeTe</td>\n      <td>CdS</td>\n      <td>830.0</td>\n      <td>Aminoacid</td>\n      <td>MTT</td>\n      <td>0.426</td>\n      <td>Bilal, 2019</td>\n      <td>QD</td>\n    </tr>\n    <tr>\n      <th>3024</th>\n      <td>5.5</td>\n      <td>Neutral</td>\n      <td>24.0</td>\n      <td>Human</td>\n      <td>Cervix</td>\n      <td>Epithelial</td>\n      <td>Cell-line</td>\n      <td>HeLa</td>\n      <td>20.0</td>\n      <td>CdSe</td>\n      <td>ZnS</td>\n      <td>605.0</td>\n      <td>Lipid</td>\n      <td>MTT</td>\n      <td>0.720</td>\n      <td>Bilal, 2019</td>\n      <td>QD</td>\n    </tr>\n    <tr>\n      <th>3025</th>\n      <td>5.5</td>\n      <td>Neutral</td>\n      <td>48.0</td>\n      <td>Human</td>\n      <td>Cervix</td>\n      <td>Epithelial</td>\n      <td>Cell-line</td>\n      <td>HeLa</td>\n      <td>20.0</td>\n      <td>CdSe</td>\n      <td>ZnS</td>\n      <td>605.0</td>\n      <td>Lipid</td>\n      <td>MTT</td>\n      <td>0.680</td>\n      <td>Bilal, 2019</td>\n      <td>QD</td>\n    </tr>\n    <tr>\n      <th>3026</th>\n      <td>5.5</td>\n      <td>Neutral</td>\n      <td>24.0</td>\n      <td>Human</td>\n      <td>Cervix</td>\n      <td>Epithelial</td>\n      <td>Cell-line</td>\n      <td>HeLa</td>\n      <td>20.0</td>\n      <td>CdSe</td>\n      <td>ZnS</td>\n      <td>605.0</td>\n      <td>Lipid</td>\n      <td>MTT</td>\n      <td>0.730</td>\n      <td>Bilal, 2019</td>\n      <td>QD</td>\n    </tr>\n    <tr>\n      <th>3027</th>\n      <td>5.5</td>\n      <td>Neutral</td>\n      <td>48.0</td>\n      <td>Human</td>\n      <td>Cervix</td>\n      <td>Epithelial</td>\n      <td>Cell-line</td>\n      <td>HeLa</td>\n      <td>20.0</td>\n      <td>CdSe</td>\n      <td>ZnS</td>\n      <td>605.0</td>\n      <td>Lipid</td>\n      <td>MTT</td>\n      <td>0.700</td>\n      <td>Bilal, 2019</td>\n      <td>QD</td>\n    </tr>\n  </tbody>\n</table>\n<p>3028 rows × 17 columns</p>\n</div>"
     },
     "execution_count": 204,
     "metadata": {},
     "output_type": "execute_result"
    }
   ],
   "source": [
    "# Bilal, 2019\n",
    "\"\"\"\n",
    "QD-source\n",
    "Core\n",
    "Shell\n",
    "QD Diameter\n",
    "Emission Wavelength\n",
    "Surface Ligand\n",
    "Ligand Chemical\n",
    "Surface Charge\n",
    "Surface Modification\n",
    "Surface Modification Chemical\n",
    "Cell Anatomical Type\n",
    "Cell Identification\n",
    "Cell Source Species\n",
    "Cell Origin\n",
    "Cell Tissue/Organ Origin\n",
    "Assay Type\n",
    "Delivery Type\n",
    "Exposure Time\n",
    "\"\"\"\n",
    "bilal_raw = pd.read_csv('raw_datasets/bilal_2019.csv')\n",
    "bilal_processed = bilal_raw.rename(columns={\n",
    "    'QD-diameter-nm': 'Diameter',\n",
    "    'QD-conc-nanoMolar': 'QD Concentration',\n",
    "    'Core': 'QD Core',\n",
    "    'Shell': 'QD Shell',\n",
    "    'Emission-wavelength-nm': 'QD Emission wavelength',\n",
    "    'Surface-ligand': 'QD Surface ligand',\n",
    "    'Surface-charge': 'Surface charge (categorical)',\n",
    "    'Cell-anatomical-type': 'Cell origin (anatomical)',\n",
    "    'Cell-identification': 'Cell name',\n",
    "    'Cell-source-species': 'Cell origin (species)',\n",
    "    'Cell-origin': 'Cell origin (primary or cell-line)',\n",
    "    'Cell-tissue-organ-origin': 'Cell origin (organ)',\n",
    "    'Assay-type': 'Assay',\n",
    "    'Exposure-time-hrs': 'Exposure time',\n",
    "    'Cell-viability-percent': 'Target',\n",
    "})[:3028][[\n",
    "    'Diameter', 'Surface charge (categorical)', 'Exposure time',\n",
    "    'Cell origin (species)', 'Cell origin (organ)', 'Cell origin (anatomical)', 'Cell origin (primary or cell-line)', 'Cell name',\n",
    "    'QD Concentration', 'QD Core', 'QD Shell', 'QD Emission wavelength', 'QD Surface ligand',\n",
    "    'Assay', 'Target'\n",
    "]]\n",
    "bilal_processed['Target'] /= 100.0\n",
    "bilal_processed['Source'] = 'Bilal, 2019'\n",
    "bilal_processed['NP Type'] = 'QD'\n",
    "bilal_processed"
   ],
   "metadata": {
    "collapsed": false
   }
  },
  {
   "cell_type": "code",
   "execution_count": 205,
   "outputs": [
    {
     "data": {
      "text/plain": "    NP Type    Dose  Exposure time Zeta potential Hydrodynamic size  Diameter  \\\n0       CuO   10.00              4          -47.6               NaN      40.0   \n1       CuO   10.00              4          -36.6               NaN      60.0   \n2       CuO    1.56             24          -47.6               NaN      40.0   \n3       CuO    1.56             24          -36.6               NaN      60.0   \n4       CuO    3.13             24          -47.6               NaN      40.0   \n..      ...     ...            ...            ...               ...       ...   \n597     ZnO    4.00             48            NaN               NaN      35.0   \n598     ZnO    8.00             48            NaN               NaN      35.0   \n599     ZnO   40.00             48            NaN               NaN      35.0   \n600     ZnO   80.00             48            NaN               NaN      35.0   \n601     ZnO  400.00             48            NaN               NaN      35.0   \n\n    Surface area      Shape Cell origin (species) Cell origin (anatomical)  \\\n0            NaN        NaN                   Rat              Endothelial   \n1            NaN        NaN                   Rat              Endothelial   \n2            NaN        NaN                   Rat              Endothelial   \n3            NaN        NaN                   Rat              Endothelial   \n4            NaN        NaN                   Rat              Endothelial   \n..           ...        ...                   ...                      ...   \n597          NaN  Spherical                   Rat                  Schwann   \n598          NaN  Spherical                   Rat                  Schwann   \n599          NaN  Spherical                   Rat                  Schwann   \n600          NaN  Spherical                   Rat                  Schwann   \n601          NaN  Spherical                   Rat                  Schwann   \n\n    Cell name Assay  Target        Source  \n0        BMEC   XTT     0.0  Furxhi, 2020  \n1        BMEC   XTT     0.0  Furxhi, 2020  \n2        BMEC   XTT     0.0  Furxhi, 2020  \n3        BMEC   XTT     0.0  Furxhi, 2020  \n4        BMEC   XTT     0.0  Furxhi, 2020  \n..        ...   ...     ...           ...  \n597     RSC96   MTT     1.0  Furxhi, 2020  \n598     RSC96   MTT     1.0  Furxhi, 2020  \n599     RSC96   MTT     1.0  Furxhi, 2020  \n600     RSC96   MTT     0.0  Furxhi, 2020  \n601     RSC96   MTT     0.0  Furxhi, 2020  \n\n[602 rows x 14 columns]",
      "text/html": "<div>\n<style scoped>\n    .dataframe tbody tr th:only-of-type {\n        vertical-align: middle;\n    }\n\n    .dataframe tbody tr th {\n        vertical-align: top;\n    }\n\n    .dataframe thead th {\n        text-align: right;\n    }\n</style>\n<table border=\"1\" class=\"dataframe\">\n  <thead>\n    <tr style=\"text-align: right;\">\n      <th></th>\n      <th>NP Type</th>\n      <th>Dose</th>\n      <th>Exposure time</th>\n      <th>Zeta potential</th>\n      <th>Hydrodynamic size</th>\n      <th>Diameter</th>\n      <th>Surface area</th>\n      <th>Shape</th>\n      <th>Cell origin (species)</th>\n      <th>Cell origin (anatomical)</th>\n      <th>Cell name</th>\n      <th>Assay</th>\n      <th>Target</th>\n      <th>Source</th>\n    </tr>\n  </thead>\n  <tbody>\n    <tr>\n      <th>0</th>\n      <td>CuO</td>\n      <td>10.00</td>\n      <td>4</td>\n      <td>-47.6</td>\n      <td>NaN</td>\n      <td>40.0</td>\n      <td>NaN</td>\n      <td>NaN</td>\n      <td>Rat</td>\n      <td>Endothelial</td>\n      <td>BMEC</td>\n      <td>XTT</td>\n      <td>0.0</td>\n      <td>Furxhi, 2020</td>\n    </tr>\n    <tr>\n      <th>1</th>\n      <td>CuO</td>\n      <td>10.00</td>\n      <td>4</td>\n      <td>-36.6</td>\n      <td>NaN</td>\n      <td>60.0</td>\n      <td>NaN</td>\n      <td>NaN</td>\n      <td>Rat</td>\n      <td>Endothelial</td>\n      <td>BMEC</td>\n      <td>XTT</td>\n      <td>0.0</td>\n      <td>Furxhi, 2020</td>\n    </tr>\n    <tr>\n      <th>2</th>\n      <td>CuO</td>\n      <td>1.56</td>\n      <td>24</td>\n      <td>-47.6</td>\n      <td>NaN</td>\n      <td>40.0</td>\n      <td>NaN</td>\n      <td>NaN</td>\n      <td>Rat</td>\n      <td>Endothelial</td>\n      <td>BMEC</td>\n      <td>XTT</td>\n      <td>0.0</td>\n      <td>Furxhi, 2020</td>\n    </tr>\n    <tr>\n      <th>3</th>\n      <td>CuO</td>\n      <td>1.56</td>\n      <td>24</td>\n      <td>-36.6</td>\n      <td>NaN</td>\n      <td>60.0</td>\n      <td>NaN</td>\n      <td>NaN</td>\n      <td>Rat</td>\n      <td>Endothelial</td>\n      <td>BMEC</td>\n      <td>XTT</td>\n      <td>0.0</td>\n      <td>Furxhi, 2020</td>\n    </tr>\n    <tr>\n      <th>4</th>\n      <td>CuO</td>\n      <td>3.13</td>\n      <td>24</td>\n      <td>-47.6</td>\n      <td>NaN</td>\n      <td>40.0</td>\n      <td>NaN</td>\n      <td>NaN</td>\n      <td>Rat</td>\n      <td>Endothelial</td>\n      <td>BMEC</td>\n      <td>XTT</td>\n      <td>0.0</td>\n      <td>Furxhi, 2020</td>\n    </tr>\n    <tr>\n      <th>...</th>\n      <td>...</td>\n      <td>...</td>\n      <td>...</td>\n      <td>...</td>\n      <td>...</td>\n      <td>...</td>\n      <td>...</td>\n      <td>...</td>\n      <td>...</td>\n      <td>...</td>\n      <td>...</td>\n      <td>...</td>\n      <td>...</td>\n      <td>...</td>\n    </tr>\n    <tr>\n      <th>597</th>\n      <td>ZnO</td>\n      <td>4.00</td>\n      <td>48</td>\n      <td>NaN</td>\n      <td>NaN</td>\n      <td>35.0</td>\n      <td>NaN</td>\n      <td>Spherical</td>\n      <td>Rat</td>\n      <td>Schwann</td>\n      <td>RSC96</td>\n      <td>MTT</td>\n      <td>1.0</td>\n      <td>Furxhi, 2020</td>\n    </tr>\n    <tr>\n      <th>598</th>\n      <td>ZnO</td>\n      <td>8.00</td>\n      <td>48</td>\n      <td>NaN</td>\n      <td>NaN</td>\n      <td>35.0</td>\n      <td>NaN</td>\n      <td>Spherical</td>\n      <td>Rat</td>\n      <td>Schwann</td>\n      <td>RSC96</td>\n      <td>MTT</td>\n      <td>1.0</td>\n      <td>Furxhi, 2020</td>\n    </tr>\n    <tr>\n      <th>599</th>\n      <td>ZnO</td>\n      <td>40.00</td>\n      <td>48</td>\n      <td>NaN</td>\n      <td>NaN</td>\n      <td>35.0</td>\n      <td>NaN</td>\n      <td>Spherical</td>\n      <td>Rat</td>\n      <td>Schwann</td>\n      <td>RSC96</td>\n      <td>MTT</td>\n      <td>1.0</td>\n      <td>Furxhi, 2020</td>\n    </tr>\n    <tr>\n      <th>600</th>\n      <td>ZnO</td>\n      <td>80.00</td>\n      <td>48</td>\n      <td>NaN</td>\n      <td>NaN</td>\n      <td>35.0</td>\n      <td>NaN</td>\n      <td>Spherical</td>\n      <td>Rat</td>\n      <td>Schwann</td>\n      <td>RSC96</td>\n      <td>MTT</td>\n      <td>0.0</td>\n      <td>Furxhi, 2020</td>\n    </tr>\n    <tr>\n      <th>601</th>\n      <td>ZnO</td>\n      <td>400.00</td>\n      <td>48</td>\n      <td>NaN</td>\n      <td>NaN</td>\n      <td>35.0</td>\n      <td>NaN</td>\n      <td>Spherical</td>\n      <td>Rat</td>\n      <td>Schwann</td>\n      <td>RSC96</td>\n      <td>MTT</td>\n      <td>0.0</td>\n      <td>Furxhi, 2020</td>\n    </tr>\n  </tbody>\n</table>\n<p>602 rows × 14 columns</p>\n</div>"
     },
     "execution_count": 205,
     "metadata": {},
     "output_type": "execute_result"
    }
   ],
   "source": [
    "# Furxhi, 2020\n",
    "\"\"\"\n",
    "Dose\n",
    "Time\n",
    "Zeta potential in Water\n",
    "Zeta W Measurement\n",
    "Zet potential in cellular Media\n",
    "Zeta M Measurement\n",
    "Hydrodynamic size in Water\n",
    "Hydro size W Measurement\n",
    "Hydrodynamic size in cellular Media\n",
    "Hydro size M Measurement\n",
    "Size\n",
    "Size Measurement\n",
    "SSA (surface area?)\n",
    "Surface area Measurement\n",
    "NP Type\n",
    "Shape\n",
    "Shape measurement\n",
    "Cell origin\n",
    "Cell name\n",
    "Cell type\n",
    "Assay\n",
    "\"\"\"\n",
    "furxhi_raw = pd.read_csv('raw_datasets/furxhi_2020.csv')\n",
    "furxhi_processed = furxhi_raw.copy()\n",
    "\n",
    "def impute_w(w, m):\n",
    "    from sklearn.linear_model import LinearRegression\n",
    "    clean_mask = (w != '?') & (m != '?')\n",
    "    w_clean, m_clean = w[clean_mask].values, m[clean_mask].values\n",
    "    lr = LinearRegression()\n",
    "    lr.fit(m_clean[:, None], w_clean)\n",
    "    new_w = w.values.copy()\n",
    "    pred_mask =  (w == '?') & (m != '?')\n",
    "    new_w[pred_mask] = lr.predict(m[pred_mask].values[:, None])\n",
    "    return new_w\n",
    "\n",
    "furxhi_processed['Hydrodynamic size'] = impute_w(furxhi_processed['Hydro_W'], furxhi_processed['Hydro_M'])\n",
    "furxhi_processed['Zeta potential'] = impute_w(furxhi_processed['Zeta_W'], furxhi_processed['Zeta_M'])\n",
    "furxhi_processed = furxhi_processed.rename(columns={\n",
    "    'Time': 'Exposure time',\n",
    "    'Size': 'Diameter',\n",
    "    'SSA': 'Surface area',\n",
    "    'shape': 'Shape',\n",
    "    'C_Origin': 'Cell origin (species)',\n",
    "    'C_name': 'Cell name',\n",
    "    'C_Type': 'Cell origin (anatomical)',\n",
    "    'Cell viability': 'Target',\n",
    "    'NP type': 'NP Type',\n",
    "})[[\n",
    "    'NP Type', 'Dose', 'Exposure time', 'Zeta potential', 'Hydrodynamic size', 'Diameter', 'Surface area',\n",
    "    'Shape', 'Cell origin (species)', 'Cell origin (anatomical)', 'Cell name', 'Assay', 'Target'\n",
    "]].replace('?', np.nan)\n",
    "furxhi_processed['Target'] = furxhi_processed['Target'].map({'Toxic': 0.0, 'Non-Toxic': 1.0})\n",
    "furxhi_processed['Source'] = 'Furxhi, 2020'\n",
    "furxhi_processed"
   ],
   "metadata": {
    "collapsed": false
   }
  },
  {
   "cell_type": "code",
   "execution_count": 206,
   "outputs": [
    {
     "data": {
      "text/plain": "       NP Type      Shape  Surface area  Surface charge Surface coating  \\\n0    Cellulose  Elongated           NaN             NaN        Sulphate   \n1    Cellulose  Elongated           NaN             NaN        Sulphate   \n2    Cellulose  Elongated           NaN             NaN        Sulphate   \n3    Cellulose  Elongated           NaN             NaN        Sulphate   \n4    Cellulose  Elongated           NaN             NaN        Sulphate   \n..         ...        ...           ...             ...             ...   \n162      Yb2O3  Irregular           NaN             NaN             NaN   \n163        ZnO  Irregular           NaN             NaN             NaN   \n164        ZnO  Irregular           NaN             NaN             NaN   \n165        ZnO  Irregular           NaN             NaN             NaN   \n166        ZnO  Irregular           NaN             NaN             NaN   \n\n    Surface reactivity Aggregation  Diameter  Target  \\\n0                  NaN         Low     100.0     1.0   \n1                  NaN         Low     100.0     1.0   \n2                  NaN         Low     100.0     1.0   \n3                  NaN         Low     100.0     1.0   \n4                  NaN         Low     100.0     1.0   \n..                 ...         ...       ...     ...   \n162                NaN         NaN      75.0     1.0   \n163                Low         NaN      30.0     0.0   \n164                Low         NaN      30.0     0.0   \n165                Low         NaN      30.0     0.0   \n166                Low         NaN      30.0     0.0   \n\n    Surface charge (categorical)        Source  \n0                            NaN  Marvin, 2017  \n1                            NaN  Marvin, 2017  \n2                            NaN  Marvin, 2017  \n3                            NaN  Marvin, 2017  \n4                            NaN  Marvin, 2017  \n..                           ...           ...  \n162                          NaN  Marvin, 2017  \n163                          NaN  Marvin, 2017  \n164                          NaN  Marvin, 2017  \n165                          NaN  Marvin, 2017  \n166                          NaN  Marvin, 2017  \n\n[167 rows x 11 columns]",
      "text/html": "<div>\n<style scoped>\n    .dataframe tbody tr th:only-of-type {\n        vertical-align: middle;\n    }\n\n    .dataframe tbody tr th {\n        vertical-align: top;\n    }\n\n    .dataframe thead th {\n        text-align: right;\n    }\n</style>\n<table border=\"1\" class=\"dataframe\">\n  <thead>\n    <tr style=\"text-align: right;\">\n      <th></th>\n      <th>NP Type</th>\n      <th>Shape</th>\n      <th>Surface area</th>\n      <th>Surface charge</th>\n      <th>Surface coating</th>\n      <th>Surface reactivity</th>\n      <th>Aggregation</th>\n      <th>Diameter</th>\n      <th>Target</th>\n      <th>Surface charge (categorical)</th>\n      <th>Source</th>\n    </tr>\n  </thead>\n  <tbody>\n    <tr>\n      <th>0</th>\n      <td>Cellulose</td>\n      <td>Elongated</td>\n      <td>NaN</td>\n      <td>NaN</td>\n      <td>Sulphate</td>\n      <td>NaN</td>\n      <td>Low</td>\n      <td>100.0</td>\n      <td>1.0</td>\n      <td>NaN</td>\n      <td>Marvin, 2017</td>\n    </tr>\n    <tr>\n      <th>1</th>\n      <td>Cellulose</td>\n      <td>Elongated</td>\n      <td>NaN</td>\n      <td>NaN</td>\n      <td>Sulphate</td>\n      <td>NaN</td>\n      <td>Low</td>\n      <td>100.0</td>\n      <td>1.0</td>\n      <td>NaN</td>\n      <td>Marvin, 2017</td>\n    </tr>\n    <tr>\n      <th>2</th>\n      <td>Cellulose</td>\n      <td>Elongated</td>\n      <td>NaN</td>\n      <td>NaN</td>\n      <td>Sulphate</td>\n      <td>NaN</td>\n      <td>Low</td>\n      <td>100.0</td>\n      <td>1.0</td>\n      <td>NaN</td>\n      <td>Marvin, 2017</td>\n    </tr>\n    <tr>\n      <th>3</th>\n      <td>Cellulose</td>\n      <td>Elongated</td>\n      <td>NaN</td>\n      <td>NaN</td>\n      <td>Sulphate</td>\n      <td>NaN</td>\n      <td>Low</td>\n      <td>100.0</td>\n      <td>1.0</td>\n      <td>NaN</td>\n      <td>Marvin, 2017</td>\n    </tr>\n    <tr>\n      <th>4</th>\n      <td>Cellulose</td>\n      <td>Elongated</td>\n      <td>NaN</td>\n      <td>NaN</td>\n      <td>Sulphate</td>\n      <td>NaN</td>\n      <td>Low</td>\n      <td>100.0</td>\n      <td>1.0</td>\n      <td>NaN</td>\n      <td>Marvin, 2017</td>\n    </tr>\n    <tr>\n      <th>...</th>\n      <td>...</td>\n      <td>...</td>\n      <td>...</td>\n      <td>...</td>\n      <td>...</td>\n      <td>...</td>\n      <td>...</td>\n      <td>...</td>\n      <td>...</td>\n      <td>...</td>\n      <td>...</td>\n    </tr>\n    <tr>\n      <th>162</th>\n      <td>Yb2O3</td>\n      <td>Irregular</td>\n      <td>NaN</td>\n      <td>NaN</td>\n      <td>NaN</td>\n      <td>NaN</td>\n      <td>NaN</td>\n      <td>75.0</td>\n      <td>1.0</td>\n      <td>NaN</td>\n      <td>Marvin, 2017</td>\n    </tr>\n    <tr>\n      <th>163</th>\n      <td>ZnO</td>\n      <td>Irregular</td>\n      <td>NaN</td>\n      <td>NaN</td>\n      <td>NaN</td>\n      <td>Low</td>\n      <td>NaN</td>\n      <td>30.0</td>\n      <td>0.0</td>\n      <td>NaN</td>\n      <td>Marvin, 2017</td>\n    </tr>\n    <tr>\n      <th>164</th>\n      <td>ZnO</td>\n      <td>Irregular</td>\n      <td>NaN</td>\n      <td>NaN</td>\n      <td>NaN</td>\n      <td>Low</td>\n      <td>NaN</td>\n      <td>30.0</td>\n      <td>0.0</td>\n      <td>NaN</td>\n      <td>Marvin, 2017</td>\n    </tr>\n    <tr>\n      <th>165</th>\n      <td>ZnO</td>\n      <td>Irregular</td>\n      <td>NaN</td>\n      <td>NaN</td>\n      <td>NaN</td>\n      <td>Low</td>\n      <td>NaN</td>\n      <td>30.0</td>\n      <td>0.0</td>\n      <td>NaN</td>\n      <td>Marvin, 2017</td>\n    </tr>\n    <tr>\n      <th>166</th>\n      <td>ZnO</td>\n      <td>Irregular</td>\n      <td>NaN</td>\n      <td>NaN</td>\n      <td>NaN</td>\n      <td>Low</td>\n      <td>NaN</td>\n      <td>30.0</td>\n      <td>0.0</td>\n      <td>NaN</td>\n      <td>Marvin, 2017</td>\n    </tr>\n  </tbody>\n</table>\n<p>167 rows × 11 columns</p>\n</div>"
     },
     "execution_count": 206,
     "metadata": {},
     "output_type": "execute_result"
    }
   ],
   "source": [
    "# Marvin, 2017\n",
    "\n",
    "\"\"\"\n",
    "Shape *\n",
    "NP Type *\n",
    "Surface area *\n",
    "Surface charge *\n",
    "Surface coatings *\n",
    "Surface reactivity *\n",
    "Aggregation *\n",
    "Particle size *\n",
    "Administration route\n",
    "Study type (in vivo/vitro)\n",
    "\"\"\"\n",
    "marvin_raw = pd.read_csv('raw_datasets/marvin_2017/marvin_2017_1.csv', skiprows=0)\n",
    "marvin_processed = marvin_raw[\n",
    "    ~(marvin_raw['Cytotoxicity'].isna() | marvin_raw['Cytotoxicity'].isin(['NaN', 'None']))\n",
    "].reset_index(drop=True)[[\n",
    "    'Nanoparticle', 'Shape',\n",
    "    'Surface area', 'Surface charge', 'Surface coatings', 'Surface reactivity',\n",
    "    'Aggregation', 'Particle size', 'Cytotoxicity'\n",
    "]].rename(columns={\n",
    "    'Nanoparticle': 'NP Type',\n",
    "    'Surface coatings': 'Surface coating',\n",
    "    'Particle size': 'Diameter',\n",
    "    'Cytotoxicity': 'Target',\n",
    "})[:-1]\n",
    "marvin_processed['Surface area'] = marvin_processed['Surface area'].map(\n",
    "    lambda x: x if pd.isna(x) else sum(map(float, x.split(' - '))) * 0.5\n",
    ")\n",
    "marvin_processed['Surface charge'] = marvin_processed['Surface charge'].map(\n",
    "    lambda x: x if pd.isna(x) else sum(map(float, x.split(' to '))) * 0.5\n",
    ")\n",
    "marvin_processed['Diameter'] = marvin_processed['Diameter'].map(\n",
    "    lambda x: x if pd.isna(x) else (float(x[1:]) if x.startswith('>') else (sum(map(float, x.split(' to '))) * 0.5))\n",
    ")\n",
    "marvin_processed['Target'] = marvin_processed['Target'].map({'Low': 1.0, 'Medium': 0.5, 'High': 0.0}.get)\n",
    "marvin_processed['Surface charge (categorical)'] = \\\n",
    "    marvin_processed['Surface charge'].map(lambda x: x if pd.isna(x) else ('Positive' if x > 0.0 else 'Negative'))\n",
    "\n",
    "marvin_processed = marvin_processed[marvin_processed['NP Type'] != 'C'].reset_index(drop=True)\n",
    "marvin_processed['Source'] = 'Marvin, 2017'\n",
    "marvin_processed"
   ],
   "metadata": {
    "collapsed": false
   }
  },
  {
   "cell_type": "code",
   "execution_count": 207,
   "outputs": [
    {
     "data": {
      "text/plain": "     NP Type  Diameter  Zeta potential Cell name        Dose    Target  \\\n0         Ag     28.41          -33.33      HeLa    0.000356  0.036610   \n1         Ag     28.41          -33.33      HeLa    0.000028  0.484768   \n2         Ag     28.41          -33.33      HeLa    0.000114  0.659603   \n3         Ag     28.41          -33.33     HaCat    0.000853  0.237134   \n4         Ag     28.41          -33.33     HaCat    0.000853  0.205212   \n...      ...       ...             ...       ...         ...       ...   \n3082    ZrO2     10.00          -45.50   HCT-116  150.000000  0.526200   \n3083    ZrO2     10.00          -45.50   HCT-116  100.000000  0.585200   \n3084    ZrO2     10.00          -45.50      VERO  100.000000  0.767400   \n3085    ZrO2     10.00          -45.50   HCT-116   50.000000  0.727400   \n3086    ZrO2     10.00          -45.50   HCT-116  150.000000  0.511000   \n\n     Surface coating Cell origin (primary or cell-line) Cell origin (species)  \\\n0                NaN                          Cell-line                 human   \n1                NaN                          Cell-line                 human   \n2                NaN                          Cell-line                 human   \n3                NaN                          Cell-line                 human   \n4                NaN                          Cell-line                 human   \n...              ...                                ...                   ...   \n3082             NaN                          Cell-line                 human   \n3083             NaN                          Cell-line                 human   \n3084             NaN                          Cell-line                monkey   \n3085             NaN                          Cell-line                 human   \n3086             NaN                          Cell-line                 human   \n\n     Cell origin (anatomical) Cell origin (organ)  Exposure time      Assay  \\\n0                  Epithelial              cervix           72.0        MTT   \n1                  Epithelial              cervix           48.0         NR   \n2                  Epithelial              cervix           24.0         NR   \n3                Keratinocyte                skin           48.0         NR   \n4                Keratinocyte                skin           72.0         NR   \n...                       ...                 ...            ...        ...   \n3082               Epithelial               colon           24.0  Live/Dead   \n3083               Epithelial               colon           24.0  Live/Dead   \n3084               Epithelial              kidney           24.0        MTT   \n3085               Epithelial               colon           24.0  Live/Dead   \n3086               Epithelial               colon           24.0        MTT   \n\n      Molecular weight  Electronegativity  Ionic radius          Source  \n0             107.8682           1.930000      1.086667  Shirokii, 2023  \n1             107.8682           1.930000      1.086667  Shirokii, 2023  \n2             107.8682           1.930000      1.086667  Shirokii, 2023  \n3             107.8682           1.930000      1.086667  Shirokii, 2023  \n4             107.8682           1.930000      1.086667  Shirokii, 2023  \n...                ...                ...           ...             ...  \n3082          123.2228           2.736667      0.860000  Shirokii, 2023  \n3083          123.2228           2.736667      0.860000  Shirokii, 2023  \n3084          123.2228           2.736667      0.860000  Shirokii, 2023  \n3085          123.2228           2.736667      0.860000  Shirokii, 2023  \n3086          123.2228           2.736667      0.860000  Shirokii, 2023  \n\n[3087 rows x 17 columns]",
      "text/html": "<div>\n<style scoped>\n    .dataframe tbody tr th:only-of-type {\n        vertical-align: middle;\n    }\n\n    .dataframe tbody tr th {\n        vertical-align: top;\n    }\n\n    .dataframe thead th {\n        text-align: right;\n    }\n</style>\n<table border=\"1\" class=\"dataframe\">\n  <thead>\n    <tr style=\"text-align: right;\">\n      <th></th>\n      <th>NP Type</th>\n      <th>Diameter</th>\n      <th>Zeta potential</th>\n      <th>Cell name</th>\n      <th>Dose</th>\n      <th>Target</th>\n      <th>Surface coating</th>\n      <th>Cell origin (primary or cell-line)</th>\n      <th>Cell origin (species)</th>\n      <th>Cell origin (anatomical)</th>\n      <th>Cell origin (organ)</th>\n      <th>Exposure time</th>\n      <th>Assay</th>\n      <th>Molecular weight</th>\n      <th>Electronegativity</th>\n      <th>Ionic radius</th>\n      <th>Source</th>\n    </tr>\n  </thead>\n  <tbody>\n    <tr>\n      <th>0</th>\n      <td>Ag</td>\n      <td>28.41</td>\n      <td>-33.33</td>\n      <td>HeLa</td>\n      <td>0.000356</td>\n      <td>0.036610</td>\n      <td>NaN</td>\n      <td>Cell-line</td>\n      <td>human</td>\n      <td>Epithelial</td>\n      <td>cervix</td>\n      <td>72.0</td>\n      <td>MTT</td>\n      <td>107.8682</td>\n      <td>1.930000</td>\n      <td>1.086667</td>\n      <td>Shirokii, 2023</td>\n    </tr>\n    <tr>\n      <th>1</th>\n      <td>Ag</td>\n      <td>28.41</td>\n      <td>-33.33</td>\n      <td>HeLa</td>\n      <td>0.000028</td>\n      <td>0.484768</td>\n      <td>NaN</td>\n      <td>Cell-line</td>\n      <td>human</td>\n      <td>Epithelial</td>\n      <td>cervix</td>\n      <td>48.0</td>\n      <td>NR</td>\n      <td>107.8682</td>\n      <td>1.930000</td>\n      <td>1.086667</td>\n      <td>Shirokii, 2023</td>\n    </tr>\n    <tr>\n      <th>2</th>\n      <td>Ag</td>\n      <td>28.41</td>\n      <td>-33.33</td>\n      <td>HeLa</td>\n      <td>0.000114</td>\n      <td>0.659603</td>\n      <td>NaN</td>\n      <td>Cell-line</td>\n      <td>human</td>\n      <td>Epithelial</td>\n      <td>cervix</td>\n      <td>24.0</td>\n      <td>NR</td>\n      <td>107.8682</td>\n      <td>1.930000</td>\n      <td>1.086667</td>\n      <td>Shirokii, 2023</td>\n    </tr>\n    <tr>\n      <th>3</th>\n      <td>Ag</td>\n      <td>28.41</td>\n      <td>-33.33</td>\n      <td>HaCat</td>\n      <td>0.000853</td>\n      <td>0.237134</td>\n      <td>NaN</td>\n      <td>Cell-line</td>\n      <td>human</td>\n      <td>Keratinocyte</td>\n      <td>skin</td>\n      <td>48.0</td>\n      <td>NR</td>\n      <td>107.8682</td>\n      <td>1.930000</td>\n      <td>1.086667</td>\n      <td>Shirokii, 2023</td>\n    </tr>\n    <tr>\n      <th>4</th>\n      <td>Ag</td>\n      <td>28.41</td>\n      <td>-33.33</td>\n      <td>HaCat</td>\n      <td>0.000853</td>\n      <td>0.205212</td>\n      <td>NaN</td>\n      <td>Cell-line</td>\n      <td>human</td>\n      <td>Keratinocyte</td>\n      <td>skin</td>\n      <td>72.0</td>\n      <td>NR</td>\n      <td>107.8682</td>\n      <td>1.930000</td>\n      <td>1.086667</td>\n      <td>Shirokii, 2023</td>\n    </tr>\n    <tr>\n      <th>...</th>\n      <td>...</td>\n      <td>...</td>\n      <td>...</td>\n      <td>...</td>\n      <td>...</td>\n      <td>...</td>\n      <td>...</td>\n      <td>...</td>\n      <td>...</td>\n      <td>...</td>\n      <td>...</td>\n      <td>...</td>\n      <td>...</td>\n      <td>...</td>\n      <td>...</td>\n      <td>...</td>\n      <td>...</td>\n    </tr>\n    <tr>\n      <th>3082</th>\n      <td>ZrO2</td>\n      <td>10.00</td>\n      <td>-45.50</td>\n      <td>HCT-116</td>\n      <td>150.000000</td>\n      <td>0.526200</td>\n      <td>NaN</td>\n      <td>Cell-line</td>\n      <td>human</td>\n      <td>Epithelial</td>\n      <td>colon</td>\n      <td>24.0</td>\n      <td>Live/Dead</td>\n      <td>123.2228</td>\n      <td>2.736667</td>\n      <td>0.860000</td>\n      <td>Shirokii, 2023</td>\n    </tr>\n    <tr>\n      <th>3083</th>\n      <td>ZrO2</td>\n      <td>10.00</td>\n      <td>-45.50</td>\n      <td>HCT-116</td>\n      <td>100.000000</td>\n      <td>0.585200</td>\n      <td>NaN</td>\n      <td>Cell-line</td>\n      <td>human</td>\n      <td>Epithelial</td>\n      <td>colon</td>\n      <td>24.0</td>\n      <td>Live/Dead</td>\n      <td>123.2228</td>\n      <td>2.736667</td>\n      <td>0.860000</td>\n      <td>Shirokii, 2023</td>\n    </tr>\n    <tr>\n      <th>3084</th>\n      <td>ZrO2</td>\n      <td>10.00</td>\n      <td>-45.50</td>\n      <td>VERO</td>\n      <td>100.000000</td>\n      <td>0.767400</td>\n      <td>NaN</td>\n      <td>Cell-line</td>\n      <td>monkey</td>\n      <td>Epithelial</td>\n      <td>kidney</td>\n      <td>24.0</td>\n      <td>MTT</td>\n      <td>123.2228</td>\n      <td>2.736667</td>\n      <td>0.860000</td>\n      <td>Shirokii, 2023</td>\n    </tr>\n    <tr>\n      <th>3085</th>\n      <td>ZrO2</td>\n      <td>10.00</td>\n      <td>-45.50</td>\n      <td>HCT-116</td>\n      <td>50.000000</td>\n      <td>0.727400</td>\n      <td>NaN</td>\n      <td>Cell-line</td>\n      <td>human</td>\n      <td>Epithelial</td>\n      <td>colon</td>\n      <td>24.0</td>\n      <td>Live/Dead</td>\n      <td>123.2228</td>\n      <td>2.736667</td>\n      <td>0.860000</td>\n      <td>Shirokii, 2023</td>\n    </tr>\n    <tr>\n      <th>3086</th>\n      <td>ZrO2</td>\n      <td>10.00</td>\n      <td>-45.50</td>\n      <td>HCT-116</td>\n      <td>150.000000</td>\n      <td>0.511000</td>\n      <td>NaN</td>\n      <td>Cell-line</td>\n      <td>human</td>\n      <td>Epithelial</td>\n      <td>colon</td>\n      <td>24.0</td>\n      <td>MTT</td>\n      <td>123.2228</td>\n      <td>2.736667</td>\n      <td>0.860000</td>\n      <td>Shirokii, 2023</td>\n    </tr>\n  </tbody>\n</table>\n<p>3087 rows × 17 columns</p>\n</div>"
     },
     "execution_count": 207,
     "metadata": {},
     "output_type": "execute_result"
    }
   ],
   "source": [
    "# Shirokii, 2023\n",
    "\"\"\"\n",
    "NP Type *\n",
    "Diameter *\n",
    "Zeta potential *\n",
    "Cell type * Cell name\n",
    "Concentration *\n",
    "Animal * Cell origin (species)\n",
    "Cell morphology * Cell origin (anatomical)\n",
    "Cell organ * Cell origin (organ)\n",
    "Line/primary cell * Cell origin (primary or cell-line)\n",
    "Test * (assay)\n",
    "Test indicator\n",
    "Coat * (Surface coating)\n",
    "Time * (Exposure time)\n",
    "Molecular Weight *\n",
    "Ionic radius *\n",
    "Electronegativity *\n",
    "\"\"\"\n",
    "\n",
    "shirokii_raw = pd.read_csv('raw_datasets/shirokii_2023.csv')\n",
    "shirokii_processed = shirokii_raw.drop(columns=['Test_indicator', 'Unnamed: 0']).rename(columns={\n",
    "    'Material': 'NP Type',\n",
    "    'Diameter (nm)': 'Diameter',\n",
    "    'Zeta potential (mV)': 'Zeta potential',\n",
    "    'Cell_type': 'Cell name',\n",
    "    'Concentration (g/L)': 'Dose',\n",
    "    'Viability (%)': 'Target',\n",
    "    'Coat': 'Surface coating',\n",
    "    'Line_Primary_Cell': 'Cell origin (primary or cell-line)',\n",
    "    'Animal': 'Cell origin (species)',\n",
    "    'Cell_morphology': 'Cell origin (anatomical)',\n",
    "    'Cell_organ': 'Cell origin (organ)',\n",
    "    'Time (h)': 'Exposure time',\n",
    "    'Test': 'Assay',\n",
    "    'Molecular weight (g/mol)': 'Molecular weight',\n",
    "}).drop(columns=['Cell_age', 'Elements'])\n",
    "shirokii_processed['Dose'] *= 1000\n",
    "shirokii_processed['Target'] /= 100\n",
    "shirokii_processed['Surface coating'] = shirokii_processed['Surface coating'].map(lambda x: np.nan if x == '0' else x)\n",
    "shirokii_processed['Cell origin (primary or cell-line)'] = shirokii_processed['Cell origin (primary or cell-line)']\\\n",
    "    .map({'P': 'Primary', 'L': 'Cell-line'}.get)\n",
    "shirokii_processed['Source'] = 'Shirokii, 2023'\n",
    "shirokii_processed"
   ],
   "metadata": {
    "collapsed": false
   }
  },
  {
   "cell_type": "code",
   "execution_count": 208,
   "outputs": [
    {
     "data": {
      "text/plain": "    NP Type  Diameter  Hydrodynamic size  Surface charge  Surface area  \\\n0     Al2O3      39.7              267.0            36.3          64.7   \n1     Al2O3      39.7              267.0            36.3          64.7   \n2     Al2O3      39.7              267.0            36.3          64.7   \n3     Al2O3      39.7              267.0            36.3          64.7   \n4     Al2O3      39.7              267.0            36.3          64.7   \n..      ...       ...                ...             ...           ...   \n478     ZnO      35.6              236.0           -41.6          27.9   \n479     ZnO      35.6              236.0           -41.6          27.9   \n480     ZnO      35.6              236.0           -41.6          27.9   \n481     ZnO      35.6              236.0           -41.6          27.9   \n482     ZnO      35.6              236.0           -41.6          27.9   \n\n     Electronegativity Cell name  Exposure time     Dose    Target  \\\n0                 1.61     HCMEC             24    0.001  0.925258   \n1                 1.61     HCMEC             24    0.010  0.961340   \n2                 1.61     HCMEC             24    0.100  0.935567   \n3                 1.61     HCMEC             24    1.000  0.976804   \n4                 1.61     HCMEC             24    5.000  0.948454   \n..                 ...       ...            ...      ...       ...   \n478               1.65     Caco2             48    1.000  1.274363   \n479               1.65     Caco2             48   10.000  1.163751   \n480               1.65     Caco2             48  100.000  0.408796   \n481               1.65     Caco2             24    0.100  0.868566   \n482               1.65     Caco2             24    1.000  0.844578   \n\n    Surface charge (categorical)             Source  \n0                       Positive  Subramanian, 2021  \n1                       Positive  Subramanian, 2021  \n2                       Positive  Subramanian, 2021  \n3                       Positive  Subramanian, 2021  \n4                       Positive  Subramanian, 2021  \n..                           ...                ...  \n478                     Negative  Subramanian, 2021  \n479                     Negative  Subramanian, 2021  \n480                     Negative  Subramanian, 2021  \n481                     Negative  Subramanian, 2021  \n482                     Negative  Subramanian, 2021  \n\n[483 rows x 12 columns]",
      "text/html": "<div>\n<style scoped>\n    .dataframe tbody tr th:only-of-type {\n        vertical-align: middle;\n    }\n\n    .dataframe tbody tr th {\n        vertical-align: top;\n    }\n\n    .dataframe thead th {\n        text-align: right;\n    }\n</style>\n<table border=\"1\" class=\"dataframe\">\n  <thead>\n    <tr style=\"text-align: right;\">\n      <th></th>\n      <th>NP Type</th>\n      <th>Diameter</th>\n      <th>Hydrodynamic size</th>\n      <th>Surface charge</th>\n      <th>Surface area</th>\n      <th>Electronegativity</th>\n      <th>Cell name</th>\n      <th>Exposure time</th>\n      <th>Dose</th>\n      <th>Target</th>\n      <th>Surface charge (categorical)</th>\n      <th>Source</th>\n    </tr>\n  </thead>\n  <tbody>\n    <tr>\n      <th>0</th>\n      <td>Al2O3</td>\n      <td>39.7</td>\n      <td>267.0</td>\n      <td>36.3</td>\n      <td>64.7</td>\n      <td>1.61</td>\n      <td>HCMEC</td>\n      <td>24</td>\n      <td>0.001</td>\n      <td>0.925258</td>\n      <td>Positive</td>\n      <td>Subramanian, 2021</td>\n    </tr>\n    <tr>\n      <th>1</th>\n      <td>Al2O3</td>\n      <td>39.7</td>\n      <td>267.0</td>\n      <td>36.3</td>\n      <td>64.7</td>\n      <td>1.61</td>\n      <td>HCMEC</td>\n      <td>24</td>\n      <td>0.010</td>\n      <td>0.961340</td>\n      <td>Positive</td>\n      <td>Subramanian, 2021</td>\n    </tr>\n    <tr>\n      <th>2</th>\n      <td>Al2O3</td>\n      <td>39.7</td>\n      <td>267.0</td>\n      <td>36.3</td>\n      <td>64.7</td>\n      <td>1.61</td>\n      <td>HCMEC</td>\n      <td>24</td>\n      <td>0.100</td>\n      <td>0.935567</td>\n      <td>Positive</td>\n      <td>Subramanian, 2021</td>\n    </tr>\n    <tr>\n      <th>3</th>\n      <td>Al2O3</td>\n      <td>39.7</td>\n      <td>267.0</td>\n      <td>36.3</td>\n      <td>64.7</td>\n      <td>1.61</td>\n      <td>HCMEC</td>\n      <td>24</td>\n      <td>1.000</td>\n      <td>0.976804</td>\n      <td>Positive</td>\n      <td>Subramanian, 2021</td>\n    </tr>\n    <tr>\n      <th>4</th>\n      <td>Al2O3</td>\n      <td>39.7</td>\n      <td>267.0</td>\n      <td>36.3</td>\n      <td>64.7</td>\n      <td>1.61</td>\n      <td>HCMEC</td>\n      <td>24</td>\n      <td>5.000</td>\n      <td>0.948454</td>\n      <td>Positive</td>\n      <td>Subramanian, 2021</td>\n    </tr>\n    <tr>\n      <th>...</th>\n      <td>...</td>\n      <td>...</td>\n      <td>...</td>\n      <td>...</td>\n      <td>...</td>\n      <td>...</td>\n      <td>...</td>\n      <td>...</td>\n      <td>...</td>\n      <td>...</td>\n      <td>...</td>\n      <td>...</td>\n    </tr>\n    <tr>\n      <th>478</th>\n      <td>ZnO</td>\n      <td>35.6</td>\n      <td>236.0</td>\n      <td>-41.6</td>\n      <td>27.9</td>\n      <td>1.65</td>\n      <td>Caco2</td>\n      <td>48</td>\n      <td>1.000</td>\n      <td>1.274363</td>\n      <td>Negative</td>\n      <td>Subramanian, 2021</td>\n    </tr>\n    <tr>\n      <th>479</th>\n      <td>ZnO</td>\n      <td>35.6</td>\n      <td>236.0</td>\n      <td>-41.6</td>\n      <td>27.9</td>\n      <td>1.65</td>\n      <td>Caco2</td>\n      <td>48</td>\n      <td>10.000</td>\n      <td>1.163751</td>\n      <td>Negative</td>\n      <td>Subramanian, 2021</td>\n    </tr>\n    <tr>\n      <th>480</th>\n      <td>ZnO</td>\n      <td>35.6</td>\n      <td>236.0</td>\n      <td>-41.6</td>\n      <td>27.9</td>\n      <td>1.65</td>\n      <td>Caco2</td>\n      <td>48</td>\n      <td>100.000</td>\n      <td>0.408796</td>\n      <td>Negative</td>\n      <td>Subramanian, 2021</td>\n    </tr>\n    <tr>\n      <th>481</th>\n      <td>ZnO</td>\n      <td>35.6</td>\n      <td>236.0</td>\n      <td>-41.6</td>\n      <td>27.9</td>\n      <td>1.65</td>\n      <td>Caco2</td>\n      <td>24</td>\n      <td>0.100</td>\n      <td>0.868566</td>\n      <td>Negative</td>\n      <td>Subramanian, 2021</td>\n    </tr>\n    <tr>\n      <th>482</th>\n      <td>ZnO</td>\n      <td>35.6</td>\n      <td>236.0</td>\n      <td>-41.6</td>\n      <td>27.9</td>\n      <td>1.65</td>\n      <td>Caco2</td>\n      <td>24</td>\n      <td>1.000</td>\n      <td>0.844578</td>\n      <td>Negative</td>\n      <td>Subramanian, 2021</td>\n    </tr>\n  </tbody>\n</table>\n<p>483 rows × 12 columns</p>\n</div>"
     },
     "execution_count": 208,
     "metadata": {},
     "output_type": "execute_result"
    }
   ],
   "source": [
    "# Subramanian, 2021\n",
    "\"\"\"\n",
    "Np Type *\n",
    "Core size\n",
    "Hydrodynamic size\n",
    "Surface charge\tSurfCharge\n",
    "Surface area\n",
    "Conduction band energy\n",
    "Valence band energy\n",
    "Standard enthalpy of formation\n",
    "Mulliken electronegativity\n",
    "Enthalpy of formation of cation\n",
    "Polarization ratio\n",
    "\n",
    "Pauling electronegativity\n",
    "Summation of electronegativity\n",
    "Molecular weight\n",
    "Number of oxygen atoms\n",
    "Number of metal atoms\n",
    "Ratio of esum to Noxygen\n",
    "Oxidation state\n",
    "\n",
    "Exposure time\n",
    "Dosage\n",
    "\"\"\"\n",
    "\n",
    "subramanian_raw = pd.read_csv('raw_datasets/subramanian_2021.txt', sep='\\t')\n",
    "subramanian_processed = subramanian_raw.rename(columns={\n",
    "    'NPs': 'NP Type',\n",
    "    'coresize': 'Diameter',\n",
    "    'hydrosize': 'Hydrodynamic size',\n",
    "    'surfcharge': 'Surface charge',\n",
    "    'surfarea': 'Surface area',\n",
    "    'e': 'Electronegativity',\n",
    "    'Cellline': 'Cell name',\n",
    "    'Expotime': 'Exposure time',\n",
    "    'dosage': 'Dose',\n",
    "    'viability': 'Target'\n",
    "})[[\n",
    "    'NP Type', 'Diameter', 'Hydrodynamic size', 'Surface charge', 'Surface area',\n",
    "    'Electronegativity', 'Cell name', 'Exposure time', 'Dose', 'Target',\n",
    "]]\n",
    "subramanian_processed['Surface charge (categorical)'] = \\\n",
    "    subramanian_processed['Surface charge'].map(lambda x: 'Positive' if x > 0.0 else 'Negative')\n",
    "subramanian_processed['Target'] /= 100\n",
    "subramanian_processed['Source'] = 'Subramanian, 2021'\n",
    "subramanian_processed"
   ],
   "metadata": {
    "collapsed": false
   }
  },
  {
   "cell_type": "markdown",
   "source": [
    "## Combination\n",
    "Now, we concatenate our dataframes into a single dataset, and re-order the columns for visibility."
   ],
   "metadata": {
    "collapsed": false
   }
  },
  {
   "cell_type": "code",
   "execution_count": 209,
   "outputs": [
    {
     "data": {
      "text/plain": "array(['NP Type', 'Dose', 'Exposure time', 'Zeta potential',\n       'Hydrodynamic size', 'Size', 'Surface area', 'Shape',\n       'Cell origin (species)', 'Cell origin (anatomical)', 'Cell name',\n       'Assay', 'Target', 'Source', 'Surface charge', 'Surface coating',\n       'Surface reactivity', 'Aggregation',\n       'Surface charge (categorical)',\n       'Cell origin (primary or cell-line)', 'Cell origin (organ)',\n       'Molecular weight', 'Electronegativity', 'Ionic radius',\n       'QD Concentration', 'QD Core', 'QD Shell',\n       'QD Emission wavelength', 'QD Surface ligand'], dtype=object)"
     },
     "execution_count": 209,
     "metadata": {},
     "output_type": "execute_result"
    }
   ],
   "source": [
    "processed_dfs = [\n",
    "    furxhi_processed,\n",
    "    marvin_processed,\n",
    "    shirokii_processed,\n",
    "    subramanian_processed,\n",
    "    bilal_processed,\n",
    "]\n",
    "final_df = pd.concat(processed_dfs).rename(columns={'Diameter': 'Size'})\n",
    "final_df.columns.values"
   ],
   "metadata": {
    "collapsed": false
   }
  },
  {
   "cell_type": "code",
   "execution_count": 210,
   "outputs": [
    {
     "data": {
      "text/plain": "            Source NP Type  Size Shape Surface area Zeta potential  \\\n0     Furxhi, 2020     CuO  40.0   NaN          NaN          -47.6   \n1     Furxhi, 2020     CuO  60.0   NaN          NaN          -36.6   \n2     Furxhi, 2020     CuO  40.0   NaN          NaN          -47.6   \n3     Furxhi, 2020     CuO  60.0   NaN          NaN          -36.6   \n4     Furxhi, 2020     CuO  40.0   NaN          NaN          -47.6   \n...            ...     ...   ...   ...          ...            ...   \n3023   Bilal, 2019      QD   4.9   NaN          NaN            NaN   \n3024   Bilal, 2019      QD   5.5   NaN          NaN            NaN   \n3025   Bilal, 2019      QD   5.5   NaN          NaN            NaN   \n3026   Bilal, 2019      QD   5.5   NaN          NaN            NaN   \n3027   Bilal, 2019      QD   5.5   NaN          NaN            NaN   \n\n     Hydrodynamic size  Molecular weight  Surface charge  \\\n0                  NaN               NaN             NaN   \n1                  NaN               NaN             NaN   \n2                  NaN               NaN             NaN   \n3                  NaN               NaN             NaN   \n4                  NaN               NaN             NaN   \n...                ...               ...             ...   \n3023               NaN               NaN             NaN   \n3024               NaN               NaN             NaN   \n3025               NaN               NaN             NaN   \n3026               NaN               NaN             NaN   \n3027               NaN               NaN             NaN   \n\n     Surface charge (categorical)  ... QD Surface ligand  \\\n0                             NaN  ...               NaN   \n1                             NaN  ...               NaN   \n2                             NaN  ...               NaN   \n3                             NaN  ...               NaN   \n4                             NaN  ...               NaN   \n...                           ...  ...               ...   \n3023                   Zwitterion  ...         Aminoacid   \n3024                      Neutral  ...             Lipid   \n3025                      Neutral  ...             Lipid   \n3026                      Neutral  ...             Lipid   \n3027                      Neutral  ...             Lipid   \n\n     Cell origin (species) Cell origin (organ)  Cell origin (anatomical)  \\\n0                      Rat                 NaN               Endothelial   \n1                      Rat                 NaN               Endothelial   \n2                      Rat                 NaN               Endothelial   \n3                      Rat                 NaN               Endothelial   \n4                      Rat                 NaN               Endothelial   \n...                    ...                 ...                       ...   \n3023                Human               Breast                Epithelial   \n3024                Human               Cervix                Epithelial   \n3025                Human               Cervix                Epithelial   \n3026                Human               Cervix                Epithelial   \n3027                Human               Cervix                Epithelial   \n\n      Cell origin (primary or cell-line)  Cell name   Dose Exposure time  \\\n0                                    NaN       BMEC  10.00           4.0   \n1                                    NaN       BMEC  10.00           4.0   \n2                                    NaN       BMEC   1.56          24.0   \n3                                    NaN       BMEC   1.56          24.0   \n4                                    NaN       BMEC   3.13          24.0   \n...                                  ...        ...    ...           ...   \n3023                           Cell-line      KPL-4    NaN          48.0   \n3024                           Cell-line       HeLa    NaN          24.0   \n3025                           Cell-line       HeLa    NaN          48.0   \n3026                           Cell-line       HeLa    NaN          24.0   \n3027                           Cell-line       HeLa    NaN          48.0   \n\n      Assay Target  \n0       XTT  0.000  \n1       XTT  0.000  \n2       XTT  0.000  \n3       XTT  0.000  \n4       XTT  0.000  \n...     ...    ...  \n3023    MTT  0.426  \n3024    MTT  0.720  \n3025    MTT  0.680  \n3026    MTT  0.730  \n3027    MTT  0.700  \n\n[7367 rows x 29 columns]",
      "text/html": "<div>\n<style scoped>\n    .dataframe tbody tr th:only-of-type {\n        vertical-align: middle;\n    }\n\n    .dataframe tbody tr th {\n        vertical-align: top;\n    }\n\n    .dataframe thead th {\n        text-align: right;\n    }\n</style>\n<table border=\"1\" class=\"dataframe\">\n  <thead>\n    <tr style=\"text-align: right;\">\n      <th></th>\n      <th>Source</th>\n      <th>NP Type</th>\n      <th>Size</th>\n      <th>Shape</th>\n      <th>Surface area</th>\n      <th>Zeta potential</th>\n      <th>Hydrodynamic size</th>\n      <th>Molecular weight</th>\n      <th>Surface charge</th>\n      <th>Surface charge (categorical)</th>\n      <th>...</th>\n      <th>QD Surface ligand</th>\n      <th>Cell origin (species)</th>\n      <th>Cell origin (organ)</th>\n      <th>Cell origin (anatomical)</th>\n      <th>Cell origin (primary or cell-line)</th>\n      <th>Cell name</th>\n      <th>Dose</th>\n      <th>Exposure time</th>\n      <th>Assay</th>\n      <th>Target</th>\n    </tr>\n  </thead>\n  <tbody>\n    <tr>\n      <th>0</th>\n      <td>Furxhi, 2020</td>\n      <td>CuO</td>\n      <td>40.0</td>\n      <td>NaN</td>\n      <td>NaN</td>\n      <td>-47.6</td>\n      <td>NaN</td>\n      <td>NaN</td>\n      <td>NaN</td>\n      <td>NaN</td>\n      <td>...</td>\n      <td>NaN</td>\n      <td>Rat</td>\n      <td>NaN</td>\n      <td>Endothelial</td>\n      <td>NaN</td>\n      <td>BMEC</td>\n      <td>10.00</td>\n      <td>4.0</td>\n      <td>XTT</td>\n      <td>0.000</td>\n    </tr>\n    <tr>\n      <th>1</th>\n      <td>Furxhi, 2020</td>\n      <td>CuO</td>\n      <td>60.0</td>\n      <td>NaN</td>\n      <td>NaN</td>\n      <td>-36.6</td>\n      <td>NaN</td>\n      <td>NaN</td>\n      <td>NaN</td>\n      <td>NaN</td>\n      <td>...</td>\n      <td>NaN</td>\n      <td>Rat</td>\n      <td>NaN</td>\n      <td>Endothelial</td>\n      <td>NaN</td>\n      <td>BMEC</td>\n      <td>10.00</td>\n      <td>4.0</td>\n      <td>XTT</td>\n      <td>0.000</td>\n    </tr>\n    <tr>\n      <th>2</th>\n      <td>Furxhi, 2020</td>\n      <td>CuO</td>\n      <td>40.0</td>\n      <td>NaN</td>\n      <td>NaN</td>\n      <td>-47.6</td>\n      <td>NaN</td>\n      <td>NaN</td>\n      <td>NaN</td>\n      <td>NaN</td>\n      <td>...</td>\n      <td>NaN</td>\n      <td>Rat</td>\n      <td>NaN</td>\n      <td>Endothelial</td>\n      <td>NaN</td>\n      <td>BMEC</td>\n      <td>1.56</td>\n      <td>24.0</td>\n      <td>XTT</td>\n      <td>0.000</td>\n    </tr>\n    <tr>\n      <th>3</th>\n      <td>Furxhi, 2020</td>\n      <td>CuO</td>\n      <td>60.0</td>\n      <td>NaN</td>\n      <td>NaN</td>\n      <td>-36.6</td>\n      <td>NaN</td>\n      <td>NaN</td>\n      <td>NaN</td>\n      <td>NaN</td>\n      <td>...</td>\n      <td>NaN</td>\n      <td>Rat</td>\n      <td>NaN</td>\n      <td>Endothelial</td>\n      <td>NaN</td>\n      <td>BMEC</td>\n      <td>1.56</td>\n      <td>24.0</td>\n      <td>XTT</td>\n      <td>0.000</td>\n    </tr>\n    <tr>\n      <th>4</th>\n      <td>Furxhi, 2020</td>\n      <td>CuO</td>\n      <td>40.0</td>\n      <td>NaN</td>\n      <td>NaN</td>\n      <td>-47.6</td>\n      <td>NaN</td>\n      <td>NaN</td>\n      <td>NaN</td>\n      <td>NaN</td>\n      <td>...</td>\n      <td>NaN</td>\n      <td>Rat</td>\n      <td>NaN</td>\n      <td>Endothelial</td>\n      <td>NaN</td>\n      <td>BMEC</td>\n      <td>3.13</td>\n      <td>24.0</td>\n      <td>XTT</td>\n      <td>0.000</td>\n    </tr>\n    <tr>\n      <th>...</th>\n      <td>...</td>\n      <td>...</td>\n      <td>...</td>\n      <td>...</td>\n      <td>...</td>\n      <td>...</td>\n      <td>...</td>\n      <td>...</td>\n      <td>...</td>\n      <td>...</td>\n      <td>...</td>\n      <td>...</td>\n      <td>...</td>\n      <td>...</td>\n      <td>...</td>\n      <td>...</td>\n      <td>...</td>\n      <td>...</td>\n      <td>...</td>\n      <td>...</td>\n      <td>...</td>\n    </tr>\n    <tr>\n      <th>3023</th>\n      <td>Bilal, 2019</td>\n      <td>QD</td>\n      <td>4.9</td>\n      <td>NaN</td>\n      <td>NaN</td>\n      <td>NaN</td>\n      <td>NaN</td>\n      <td>NaN</td>\n      <td>NaN</td>\n      <td>Zwitterion</td>\n      <td>...</td>\n      <td>Aminoacid</td>\n      <td>Human</td>\n      <td>Breast</td>\n      <td>Epithelial</td>\n      <td>Cell-line</td>\n      <td>KPL-4</td>\n      <td>NaN</td>\n      <td>48.0</td>\n      <td>MTT</td>\n      <td>0.426</td>\n    </tr>\n    <tr>\n      <th>3024</th>\n      <td>Bilal, 2019</td>\n      <td>QD</td>\n      <td>5.5</td>\n      <td>NaN</td>\n      <td>NaN</td>\n      <td>NaN</td>\n      <td>NaN</td>\n      <td>NaN</td>\n      <td>NaN</td>\n      <td>Neutral</td>\n      <td>...</td>\n      <td>Lipid</td>\n      <td>Human</td>\n      <td>Cervix</td>\n      <td>Epithelial</td>\n      <td>Cell-line</td>\n      <td>HeLa</td>\n      <td>NaN</td>\n      <td>24.0</td>\n      <td>MTT</td>\n      <td>0.720</td>\n    </tr>\n    <tr>\n      <th>3025</th>\n      <td>Bilal, 2019</td>\n      <td>QD</td>\n      <td>5.5</td>\n      <td>NaN</td>\n      <td>NaN</td>\n      <td>NaN</td>\n      <td>NaN</td>\n      <td>NaN</td>\n      <td>NaN</td>\n      <td>Neutral</td>\n      <td>...</td>\n      <td>Lipid</td>\n      <td>Human</td>\n      <td>Cervix</td>\n      <td>Epithelial</td>\n      <td>Cell-line</td>\n      <td>HeLa</td>\n      <td>NaN</td>\n      <td>48.0</td>\n      <td>MTT</td>\n      <td>0.680</td>\n    </tr>\n    <tr>\n      <th>3026</th>\n      <td>Bilal, 2019</td>\n      <td>QD</td>\n      <td>5.5</td>\n      <td>NaN</td>\n      <td>NaN</td>\n      <td>NaN</td>\n      <td>NaN</td>\n      <td>NaN</td>\n      <td>NaN</td>\n      <td>Neutral</td>\n      <td>...</td>\n      <td>Lipid</td>\n      <td>Human</td>\n      <td>Cervix</td>\n      <td>Epithelial</td>\n      <td>Cell-line</td>\n      <td>HeLa</td>\n      <td>NaN</td>\n      <td>24.0</td>\n      <td>MTT</td>\n      <td>0.730</td>\n    </tr>\n    <tr>\n      <th>3027</th>\n      <td>Bilal, 2019</td>\n      <td>QD</td>\n      <td>5.5</td>\n      <td>NaN</td>\n      <td>NaN</td>\n      <td>NaN</td>\n      <td>NaN</td>\n      <td>NaN</td>\n      <td>NaN</td>\n      <td>Neutral</td>\n      <td>...</td>\n      <td>Lipid</td>\n      <td>Human</td>\n      <td>Cervix</td>\n      <td>Epithelial</td>\n      <td>Cell-line</td>\n      <td>HeLa</td>\n      <td>NaN</td>\n      <td>48.0</td>\n      <td>MTT</td>\n      <td>0.700</td>\n    </tr>\n  </tbody>\n</table>\n<p>7367 rows × 29 columns</p>\n</div>"
     },
     "execution_count": 210,
     "metadata": {},
     "output_type": "execute_result"
    }
   ],
   "source": [
    "final_df = final_df[[\n",
    "    'Source',\n",
    "    'NP Type',\n",
    "    'Size',\n",
    "    'Shape',\n",
    "    'Surface area',\n",
    "    'Zeta potential',\n",
    "    'Hydrodynamic size',\n",
    "    'Molecular weight',\n",
    "\n",
    "    'Surface charge',\n",
    "    'Surface charge (categorical)',\n",
    "    'Surface coating',\n",
    "    'Surface reactivity',\n",
    "\n",
    "    'Aggregation',\n",
    "    'Electronegativity',\n",
    "    'Ionic radius',\n",
    "\n",
    "    'QD Concentration',\n",
    "    'QD Core',\n",
    "    'QD Shell',\n",
    "    'QD Emission wavelength',\n",
    "    'QD Surface ligand',\n",
    "\n",
    "    'Cell origin (species)',\n",
    "    'Cell origin (organ)',\n",
    "    'Cell origin (anatomical)',\n",
    "    'Cell origin (primary or cell-line)',\n",
    "    'Cell name',\n",
    "\n",
    "    'Dose',\n",
    "    'Exposure time',\n",
    "    'Assay',\n",
    "\n",
    "    'Target',\n",
    "]]\n",
    "final_df = final_df.copy()\n",
    "final_df"
   ],
   "metadata": {
    "collapsed": false
   }
  },
  {
   "cell_type": "markdown",
   "source": [
    "## Post-processing\n",
    "We clean up formatting differences and errors in the data for each attribute."
   ],
   "metadata": {
    "collapsed": false
   }
  },
  {
   "cell_type": "code",
   "execution_count": 211,
   "outputs": [],
   "source": [
    "final_df['Shape'] = final_df['Shape'].str.capitalize()\n",
    "final_df['Shape'] = final_df['Shape'].map(lambda x: {\n",
    "    'Sphere': 'Spherical',\n",
    "    'Amorph': 'Irregular',\n",
    "}.get(x, x))\n",
    "\n",
    "final_df['Surface area'] = final_df['Surface area'].astype(float)\n",
    "final_df['Zeta potential'] = final_df['Zeta potential'].astype(float)\n",
    "final_df['Hydrodynamic size'] = final_df['Hydrodynamic size'].astype(float)\n",
    "\n",
    "final_df['Surface coating'] = final_df['Surface coating'].map(lambda x: {\n",
    "    'None': np.nan,\n",
    "    'PEG to the PEI': 'PEG',\n",
    "    'folic acid with intermediate inorganic (silica) coating': 'Folic acid',\n",
    "    'folic acid with intermediate organic (PEG) coating': 'Folic acid'\n",
    "}.get(x, x))\n",
    "\n",
    "\n",
    "final_df['Cell origin (species)'] = final_df['Cell origin (species)'].str.capitalize().str.strip()\n",
    "final_df['Cell origin (species)'] = final_df['Cell origin (species)'].map(lambda x: {\n",
    "    '0': np.nan,\n",
    "    'Fusarium_oxysporum': 'Fusarium oxysporum',\n",
    "    'Mouse-rat': 'Mouse',\n",
    "}.get(x, x))\n",
    "\n",
    "final_df['Cell origin (organ)'] = final_df['Cell origin (organ)'].str.capitalize().str.replace('-', ' ').str.strip()\n",
    "final_df['Cell origin (organ)'] = final_df['Cell origin (organ)'].map(lambda x: {\n",
    "    'Adipose tissue': 'Connective tissue',\n",
    "    'Areolar tissue': 'Connective tissue',\n",
    "    'Alveolar': 'Lung',\n",
    "    'Aorta': 'Heart',\n",
    "    'Amniotic membrane': 'Amnion',\n",
    "    'Cornea': 'Eye',\n",
    "    'Hypothalmus': 'Brain',\n",
    "    'Respiratorytract': 'Respiratory tract',\n",
    "    'Trachea': 'Respiratory tract',\n",
    "    'Bronchial tracheal': 'Respiratory tract',\n",
    "    'Lymphocyte': 'Immune system',\n",
    "    'Nasopharyngeal': 'Pharynx',\n",
    "    'Nasopharynx': 'Pharynx',\n",
    "    'Lymph node': 'Lymph',\n",
    "}.get(x, x))\n",
    "\n",
    "final_df['Cell origin (anatomical)'] = final_df['Cell origin (anatomical)']\\\n",
    "    .str.capitalize().str.replace('-', ' ').str.replace('_', ' ')\\\n",
    "    .str.strip()\n",
    "final_df['Cell origin (anatomical)'] = final_df['Cell origin (anatomical)'].map(lambda x: {\n",
    "    'Monocyte/macrophage': 'Monocyte',\n",
    "    'Macrophage': 'Monocyte',\n",
    "    'Keratinocytes': 'Keratinocyte',\n",
    "    'Astrocytes': 'Astrocyte',\n",
    "    'Chondrocytes': 'Chondrocyte',\n",
    "    'Myocardiocytes': 'Myocardiocyte'\n",
    "}.get(x, x))\n",
    "\n",
    "final_df['Cell name'] = final_df['Cell name'].map(lambda x: {\n",
    "    'differntiated-NG108-15': 'NG108-15',\n",
    "    'undifferntiated-NG108-15': 'NG108-15',\n",
    "    'T cells (all types)': 'T-cell',\n",
    "    'Naive T-cell': 'T-cell',\n",
    "    'Memory T-cell': 'T-cell',\n",
    "    'HaCat': 'HaCaT',\n",
    "    'PMA activated THP-1': 'THP-1',\n",
    "    'bovine-skin-fibroblasts': 'Fibroblast',\n",
    "    'bovine-corneal-fibroblasts': 'Fibroblast',\n",
    "    'Fibroblast': 'Fibroblast',\n",
    "    'Human-Dermal-Fibroblast': 'Fibroblast',\n",
    "    'Fibroblasts': 'Fibroblast',\n",
    "    'L-02': 'L02',\n",
    "    'Caco-2': 'Caco2',\n",
    "    'Hepatocytes': 'Hepatocyte',\n",
    "    'SH-SY5Y': 'SHSY5Y',\n",
    "}.get(x, x))\n",
    "\n",
    "final_df['Assay'] = final_df['Assay'].str.strip()\n",
    "final_df['Assay'] = final_df['Assay'].map(lambda x: {\n",
    "    'Others': np.nan,\n",
    "    '0': np.nan,\n",
    "    'ATPLite': 'ATP',\n",
    "    'Caspase_3/7': 'Caspase',\n",
    "    'Colonigenic-assay': 'Colonigenic',\n",
    "    'Trypan-Blue': 'Trypan Blue',\n",
    "    'WST-1': 'WST',\n",
    "    'WST-8': 'WST',\n",
    "    'Live/dead-staining': 'Live/Dead',\n",
    "    'induction-of-autophagy': 'Induction of Autophagy',\n",
    "}.get(x, x))"
   ],
   "metadata": {
    "collapsed": false
   }
  },
  {
   "cell_type": "markdown",
   "source": [
    "## Save to File"
   ],
   "metadata": {
    "collapsed": false
   }
  },
  {
   "cell_type": "code",
   "execution_count": 212,
   "outputs": [],
   "source": [
    "final_df.to_csv('compiled_datasets/complete_nanotox_dataset.csv', index=False)"
   ],
   "metadata": {
    "collapsed": false
   }
  },
  {
   "cell_type": "code",
   "execution_count": 222,
   "outputs": [
    {
     "data": {
      "text/plain": "                         Source  NP Type  Size  Shape  Surface area  \\\nCell name                                                             \nA549                        678      678   678      0           132   \nSHSY5Y                      658      658   658     96           393   \nHeLa                        473      473   473      0             0   \nHepG2                       360      360   360      0             0   \nHCMEC                       354      354   354      0            72   \n...                         ...      ...   ...    ...           ...   \nCFSC-2G                       1        1     1      0             0   \nRat-Hippocampal-Neurons       1        1     1      0             0   \nS-180                         1        1     1      0             0   \nBcaCD885                      1        1     1      0             0   \nsMSCs                         1        1     1      0             0   \n\n                         Zeta potential  Hydrodynamic size  Molecular weight  \\\nCell name                                                                      \nA549                                395                132               395   \nSHSY5Y                              449                403               213   \nHeLa                                121                  0               121   \nHepG2                               123                  0               123   \nHCMEC                               282                 72               282   \n...                                 ...                ...               ...   \nCFSC-2G                               0                  0                 0   \nRat-Hippocampal-Neurons               0                  0                 0   \nS-180                                 0                  0                 0   \nBcaCD885                              0                  0                 0   \nsMSCs                                 0                  0                 0   \n\n                         Surface charge  Surface charge (categorical)  ...  \\\nCell name                                                              ...   \nA549                                132                           283  ...   \nSHSY5Y                              167                           191  ...   \nHeLa                                  0                           352  ...   \nHepG2                                 0                           237  ...   \nHCMEC                                72                            72  ...   \n...                                 ...                           ...  ...   \nCFSC-2G                               0                             1  ...   \nRat-Hippocampal-Neurons               0                             1  ...   \nS-180                                 0                             1  ...   \nBcaCD885                              0                             1  ...   \nsMSCs                                 0                             1  ...   \n\n                         QD Emission wavelength  QD Surface ligand  \\\nCell name                                                            \nA549                                        118                151   \nSHSY5Y                                       22                 24   \nHeLa                                        330                352   \nHepG2                                       204                237   \nHCMEC                                         0                  0   \n...                                         ...                ...   \nCFSC-2G                                       1                  1   \nRat-Hippocampal-Neurons                       0                  1   \nS-180                                         1                  1   \nBcaCD885                                      1                  1   \nsMSCs                                         1                  1   \n\n                         Cell origin (species)  Cell origin (organ)  \\\nCell name                                                             \nA549                                       546                  546   \nSHSY5Y                                     491                  237   \nHeLa                                       473                  473   \nHepG2                                      360                  360   \nHCMEC                                      282                  282   \n...                                        ...                  ...   \nCFSC-2G                                      1                    1   \nRat-Hippocampal-Neurons                      1                    1   \nS-180                                        1                    1   \nBcaCD885                                     1                    1   \nsMSCs                                        1                    1   \n\n                         Cell origin (anatomical)  \\\nCell name                                           \nA549                                          546   \nSHSY5Y                                        491   \nHeLa                                          473   \nHepG2                                         360   \nHCMEC                                         282   \n...                                           ...   \nCFSC-2G                                         1   \nRat-Hippocampal-Neurons                         1   \nS-180                                           1   \nBcaCD885                                        1   \nsMSCs                                           1   \n\n                         Cell origin (primary or cell-line)  Dose  \\\nCell name                                                           \nA549                                                    546   527   \nSHSY5Y                                                  237   634   \nHeLa                                                    473   121   \nHepG2                                                   360   123   \nHCMEC                                                   282   354   \n...                                                     ...   ...   \nCFSC-2G                                                   1     0   \nRat-Hippocampal-Neurons                                   1     0   \nS-180                                                     1     0   \nBcaCD885                                                  1     0   \nsMSCs                                                     1     0   \n\n                         Exposure time  Assay  Target  \nCell name                                              \nA549                               678    543     678  \nSHSY5Y                             658    491     658  \nHeLa                               473    471     465  \nHepG2                              360    360     354  \nHCMEC                              354    281     354  \n...                                ...    ...     ...  \nCFSC-2G                              1      1       1  \nRat-Hippocampal-Neurons              1      1       1  \nS-180                                1      1       1  \nBcaCD885                             1      1       1  \nsMSCs                                1      1       1  \n\n[286 rows x 28 columns]",
      "text/html": "<div>\n<style scoped>\n    .dataframe tbody tr th:only-of-type {\n        vertical-align: middle;\n    }\n\n    .dataframe tbody tr th {\n        vertical-align: top;\n    }\n\n    .dataframe thead th {\n        text-align: right;\n    }\n</style>\n<table border=\"1\" class=\"dataframe\">\n  <thead>\n    <tr style=\"text-align: right;\">\n      <th></th>\n      <th>Source</th>\n      <th>NP Type</th>\n      <th>Size</th>\n      <th>Shape</th>\n      <th>Surface area</th>\n      <th>Zeta potential</th>\n      <th>Hydrodynamic size</th>\n      <th>Molecular weight</th>\n      <th>Surface charge</th>\n      <th>Surface charge (categorical)</th>\n      <th>...</th>\n      <th>QD Emission wavelength</th>\n      <th>QD Surface ligand</th>\n      <th>Cell origin (species)</th>\n      <th>Cell origin (organ)</th>\n      <th>Cell origin (anatomical)</th>\n      <th>Cell origin (primary or cell-line)</th>\n      <th>Dose</th>\n      <th>Exposure time</th>\n      <th>Assay</th>\n      <th>Target</th>\n    </tr>\n    <tr>\n      <th>Cell name</th>\n      <th></th>\n      <th></th>\n      <th></th>\n      <th></th>\n      <th></th>\n      <th></th>\n      <th></th>\n      <th></th>\n      <th></th>\n      <th></th>\n      <th></th>\n      <th></th>\n      <th></th>\n      <th></th>\n      <th></th>\n      <th></th>\n      <th></th>\n      <th></th>\n      <th></th>\n      <th></th>\n      <th></th>\n    </tr>\n  </thead>\n  <tbody>\n    <tr>\n      <th>A549</th>\n      <td>678</td>\n      <td>678</td>\n      <td>678</td>\n      <td>0</td>\n      <td>132</td>\n      <td>395</td>\n      <td>132</td>\n      <td>395</td>\n      <td>132</td>\n      <td>283</td>\n      <td>...</td>\n      <td>118</td>\n      <td>151</td>\n      <td>546</td>\n      <td>546</td>\n      <td>546</td>\n      <td>546</td>\n      <td>527</td>\n      <td>678</td>\n      <td>543</td>\n      <td>678</td>\n    </tr>\n    <tr>\n      <th>SHSY5Y</th>\n      <td>658</td>\n      <td>658</td>\n      <td>658</td>\n      <td>96</td>\n      <td>393</td>\n      <td>449</td>\n      <td>403</td>\n      <td>213</td>\n      <td>167</td>\n      <td>191</td>\n      <td>...</td>\n      <td>22</td>\n      <td>24</td>\n      <td>491</td>\n      <td>237</td>\n      <td>491</td>\n      <td>237</td>\n      <td>634</td>\n      <td>658</td>\n      <td>491</td>\n      <td>658</td>\n    </tr>\n    <tr>\n      <th>HeLa</th>\n      <td>473</td>\n      <td>473</td>\n      <td>473</td>\n      <td>0</td>\n      <td>0</td>\n      <td>121</td>\n      <td>0</td>\n      <td>121</td>\n      <td>0</td>\n      <td>352</td>\n      <td>...</td>\n      <td>330</td>\n      <td>352</td>\n      <td>473</td>\n      <td>473</td>\n      <td>473</td>\n      <td>473</td>\n      <td>121</td>\n      <td>473</td>\n      <td>471</td>\n      <td>465</td>\n    </tr>\n    <tr>\n      <th>HepG2</th>\n      <td>360</td>\n      <td>360</td>\n      <td>360</td>\n      <td>0</td>\n      <td>0</td>\n      <td>123</td>\n      <td>0</td>\n      <td>123</td>\n      <td>0</td>\n      <td>237</td>\n      <td>...</td>\n      <td>204</td>\n      <td>237</td>\n      <td>360</td>\n      <td>360</td>\n      <td>360</td>\n      <td>360</td>\n      <td>123</td>\n      <td>360</td>\n      <td>360</td>\n      <td>354</td>\n    </tr>\n    <tr>\n      <th>HCMEC</th>\n      <td>354</td>\n      <td>354</td>\n      <td>354</td>\n      <td>0</td>\n      <td>72</td>\n      <td>282</td>\n      <td>72</td>\n      <td>282</td>\n      <td>72</td>\n      <td>72</td>\n      <td>...</td>\n      <td>0</td>\n      <td>0</td>\n      <td>282</td>\n      <td>282</td>\n      <td>282</td>\n      <td>282</td>\n      <td>354</td>\n      <td>354</td>\n      <td>281</td>\n      <td>354</td>\n    </tr>\n    <tr>\n      <th>...</th>\n      <td>...</td>\n      <td>...</td>\n      <td>...</td>\n      <td>...</td>\n      <td>...</td>\n      <td>...</td>\n      <td>...</td>\n      <td>...</td>\n      <td>...</td>\n      <td>...</td>\n      <td>...</td>\n      <td>...</td>\n      <td>...</td>\n      <td>...</td>\n      <td>...</td>\n      <td>...</td>\n      <td>...</td>\n      <td>...</td>\n      <td>...</td>\n      <td>...</td>\n      <td>...</td>\n    </tr>\n    <tr>\n      <th>CFSC-2G</th>\n      <td>1</td>\n      <td>1</td>\n      <td>1</td>\n      <td>0</td>\n      <td>0</td>\n      <td>0</td>\n      <td>0</td>\n      <td>0</td>\n      <td>0</td>\n      <td>1</td>\n      <td>...</td>\n      <td>1</td>\n      <td>1</td>\n      <td>1</td>\n      <td>1</td>\n      <td>1</td>\n      <td>1</td>\n      <td>0</td>\n      <td>1</td>\n      <td>1</td>\n      <td>1</td>\n    </tr>\n    <tr>\n      <th>Rat-Hippocampal-Neurons</th>\n      <td>1</td>\n      <td>1</td>\n      <td>1</td>\n      <td>0</td>\n      <td>0</td>\n      <td>0</td>\n      <td>0</td>\n      <td>0</td>\n      <td>0</td>\n      <td>1</td>\n      <td>...</td>\n      <td>0</td>\n      <td>1</td>\n      <td>1</td>\n      <td>1</td>\n      <td>1</td>\n      <td>1</td>\n      <td>0</td>\n      <td>1</td>\n      <td>1</td>\n      <td>1</td>\n    </tr>\n    <tr>\n      <th>S-180</th>\n      <td>1</td>\n      <td>1</td>\n      <td>1</td>\n      <td>0</td>\n      <td>0</td>\n      <td>0</td>\n      <td>0</td>\n      <td>0</td>\n      <td>0</td>\n      <td>1</td>\n      <td>...</td>\n      <td>1</td>\n      <td>1</td>\n      <td>1</td>\n      <td>1</td>\n      <td>1</td>\n      <td>1</td>\n      <td>0</td>\n      <td>1</td>\n      <td>1</td>\n      <td>1</td>\n    </tr>\n    <tr>\n      <th>BcaCD885</th>\n      <td>1</td>\n      <td>1</td>\n      <td>1</td>\n      <td>0</td>\n      <td>0</td>\n      <td>0</td>\n      <td>0</td>\n      <td>0</td>\n      <td>0</td>\n      <td>1</td>\n      <td>...</td>\n      <td>1</td>\n      <td>1</td>\n      <td>1</td>\n      <td>1</td>\n      <td>1</td>\n      <td>1</td>\n      <td>0</td>\n      <td>1</td>\n      <td>1</td>\n      <td>1</td>\n    </tr>\n    <tr>\n      <th>sMSCs</th>\n      <td>1</td>\n      <td>1</td>\n      <td>1</td>\n      <td>0</td>\n      <td>0</td>\n      <td>0</td>\n      <td>0</td>\n      <td>0</td>\n      <td>0</td>\n      <td>1</td>\n      <td>...</td>\n      <td>1</td>\n      <td>1</td>\n      <td>1</td>\n      <td>1</td>\n      <td>1</td>\n      <td>1</td>\n      <td>0</td>\n      <td>1</td>\n      <td>1</td>\n      <td>1</td>\n    </tr>\n  </tbody>\n</table>\n<p>286 rows × 28 columns</p>\n</div>"
     },
     "execution_count": 222,
     "metadata": {},
     "output_type": "execute_result"
    }
   ],
   "source": [
    "final_df.groupby('Cell name').count().sort_values('Source', ascending=False)"
   ],
   "metadata": {
    "collapsed": false
   }
  },
  {
   "cell_type": "code",
   "execution_count": null,
   "outputs": [],
   "source": [],
   "metadata": {
    "collapsed": false
   }
  }
 ],
 "metadata": {
  "kernelspec": {
   "display_name": "Python 3",
   "language": "python",
   "name": "python3"
  },
  "language_info": {
   "codemirror_mode": {
    "name": "ipython",
    "version": 2
   },
   "file_extension": ".py",
   "mimetype": "text/x-python",
   "name": "python",
   "nbconvert_exporter": "python",
   "pygments_lexer": "ipython2",
   "version": "2.7.6"
  }
 },
 "nbformat": 4,
 "nbformat_minor": 0
}
