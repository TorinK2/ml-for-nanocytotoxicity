{
 "cells": [
  {
   "cell_type": "markdown",
   "source": [
    "In this notebook, we preprocess the data so it can be directly fed to an ML model."
   ],
   "metadata": {
    "collapsed": false
   }
  },
  {
   "cell_type": "code",
   "execution_count": 428,
   "metadata": {
    "collapsed": true
   },
   "outputs": [],
   "source": [
    "import numpy as np\n",
    "import pandas as pd"
   ]
  },
  {
   "cell_type": "code",
   "execution_count": 429,
   "outputs": [
    {
     "data": {
      "text/plain": "            Source NP Type  Size Shape  Surface area  Zeta potential  \\\n0     Furxhi, 2020     CuO  40.0   NaN           NaN           -47.6   \n1     Furxhi, 2020     CuO  60.0   NaN           NaN           -36.6   \n2     Furxhi, 2020     CuO  40.0   NaN           NaN           -47.6   \n3     Furxhi, 2020     CuO  60.0   NaN           NaN           -36.6   \n4     Furxhi, 2020     CuO  40.0   NaN           NaN           -47.6   \n...            ...     ...   ...   ...           ...             ...   \n7362   Bilal, 2019      QD   4.9   NaN           NaN             NaN   \n7363   Bilal, 2019      QD   5.5   NaN           NaN             NaN   \n7364   Bilal, 2019      QD   5.5   NaN           NaN             NaN   \n7365   Bilal, 2019      QD   5.5   NaN           NaN             NaN   \n7366   Bilal, 2019      QD   5.5   NaN           NaN             NaN   \n\n      Hydrodynamic size  Molecular weight  Surface charge  \\\n0                   NaN               NaN             NaN   \n1                   NaN               NaN             NaN   \n2                   NaN               NaN             NaN   \n3                   NaN               NaN             NaN   \n4                   NaN               NaN             NaN   \n...                 ...               ...             ...   \n7362                NaN               NaN             NaN   \n7363                NaN               NaN             NaN   \n7364                NaN               NaN             NaN   \n7365                NaN               NaN             NaN   \n7366                NaN               NaN             NaN   \n\n     Surface charge (categorical)  ... QD Surface ligand  \\\n0                             NaN  ...               NaN   \n1                             NaN  ...               NaN   \n2                             NaN  ...               NaN   \n3                             NaN  ...               NaN   \n4                             NaN  ...               NaN   \n...                           ...  ...               ...   \n7362                   Zwitterion  ...         Aminoacid   \n7363                      Neutral  ...             Lipid   \n7364                      Neutral  ...             Lipid   \n7365                      Neutral  ...             Lipid   \n7366                      Neutral  ...             Lipid   \n\n     Cell origin (species) Cell origin (organ)  Cell origin (anatomical)  \\\n0                      Rat                 NaN               Endothelial   \n1                      Rat                 NaN               Endothelial   \n2                      Rat                 NaN               Endothelial   \n3                      Rat                 NaN               Endothelial   \n4                      Rat                 NaN               Endothelial   \n...                    ...                 ...                       ...   \n7362                 Human              Breast                Epithelial   \n7363                 Human              Cervix                Epithelial   \n7364                 Human              Cervix                Epithelial   \n7365                 Human              Cervix                Epithelial   \n7366                 Human              Cervix                Epithelial   \n\n      Cell origin (primary or cell-line)  Cell name   Dose Exposure time  \\\n0                                    NaN       BMEC  10.00           4.0   \n1                                    NaN       BMEC  10.00           4.0   \n2                                    NaN       BMEC   1.56          24.0   \n3                                    NaN       BMEC   1.56          24.0   \n4                                    NaN       BMEC   3.13          24.0   \n...                                  ...        ...    ...           ...   \n7362                           Cell-line      KPL-4    NaN          48.0   \n7363                           Cell-line       HeLa    NaN          24.0   \n7364                           Cell-line       HeLa    NaN          48.0   \n7365                           Cell-line       HeLa    NaN          24.0   \n7366                           Cell-line       HeLa    NaN          48.0   \n\n      Assay Target  \n0       XTT  0.000  \n1       XTT  0.000  \n2       XTT  0.000  \n3       XTT  0.000  \n4       XTT  0.000  \n...     ...    ...  \n7362    MTT  0.426  \n7363    MTT  0.720  \n7364    MTT  0.680  \n7365    MTT  0.730  \n7366    MTT  0.700  \n\n[7367 rows x 29 columns]",
      "text/html": "<div>\n<style scoped>\n    .dataframe tbody tr th:only-of-type {\n        vertical-align: middle;\n    }\n\n    .dataframe tbody tr th {\n        vertical-align: top;\n    }\n\n    .dataframe thead th {\n        text-align: right;\n    }\n</style>\n<table border=\"1\" class=\"dataframe\">\n  <thead>\n    <tr style=\"text-align: right;\">\n      <th></th>\n      <th>Source</th>\n      <th>NP Type</th>\n      <th>Size</th>\n      <th>Shape</th>\n      <th>Surface area</th>\n      <th>Zeta potential</th>\n      <th>Hydrodynamic size</th>\n      <th>Molecular weight</th>\n      <th>Surface charge</th>\n      <th>Surface charge (categorical)</th>\n      <th>...</th>\n      <th>QD Surface ligand</th>\n      <th>Cell origin (species)</th>\n      <th>Cell origin (organ)</th>\n      <th>Cell origin (anatomical)</th>\n      <th>Cell origin (primary or cell-line)</th>\n      <th>Cell name</th>\n      <th>Dose</th>\n      <th>Exposure time</th>\n      <th>Assay</th>\n      <th>Target</th>\n    </tr>\n  </thead>\n  <tbody>\n    <tr>\n      <th>0</th>\n      <td>Furxhi, 2020</td>\n      <td>CuO</td>\n      <td>40.0</td>\n      <td>NaN</td>\n      <td>NaN</td>\n      <td>-47.6</td>\n      <td>NaN</td>\n      <td>NaN</td>\n      <td>NaN</td>\n      <td>NaN</td>\n      <td>...</td>\n      <td>NaN</td>\n      <td>Rat</td>\n      <td>NaN</td>\n      <td>Endothelial</td>\n      <td>NaN</td>\n      <td>BMEC</td>\n      <td>10.00</td>\n      <td>4.0</td>\n      <td>XTT</td>\n      <td>0.000</td>\n    </tr>\n    <tr>\n      <th>1</th>\n      <td>Furxhi, 2020</td>\n      <td>CuO</td>\n      <td>60.0</td>\n      <td>NaN</td>\n      <td>NaN</td>\n      <td>-36.6</td>\n      <td>NaN</td>\n      <td>NaN</td>\n      <td>NaN</td>\n      <td>NaN</td>\n      <td>...</td>\n      <td>NaN</td>\n      <td>Rat</td>\n      <td>NaN</td>\n      <td>Endothelial</td>\n      <td>NaN</td>\n      <td>BMEC</td>\n      <td>10.00</td>\n      <td>4.0</td>\n      <td>XTT</td>\n      <td>0.000</td>\n    </tr>\n    <tr>\n      <th>2</th>\n      <td>Furxhi, 2020</td>\n      <td>CuO</td>\n      <td>40.0</td>\n      <td>NaN</td>\n      <td>NaN</td>\n      <td>-47.6</td>\n      <td>NaN</td>\n      <td>NaN</td>\n      <td>NaN</td>\n      <td>NaN</td>\n      <td>...</td>\n      <td>NaN</td>\n      <td>Rat</td>\n      <td>NaN</td>\n      <td>Endothelial</td>\n      <td>NaN</td>\n      <td>BMEC</td>\n      <td>1.56</td>\n      <td>24.0</td>\n      <td>XTT</td>\n      <td>0.000</td>\n    </tr>\n    <tr>\n      <th>3</th>\n      <td>Furxhi, 2020</td>\n      <td>CuO</td>\n      <td>60.0</td>\n      <td>NaN</td>\n      <td>NaN</td>\n      <td>-36.6</td>\n      <td>NaN</td>\n      <td>NaN</td>\n      <td>NaN</td>\n      <td>NaN</td>\n      <td>...</td>\n      <td>NaN</td>\n      <td>Rat</td>\n      <td>NaN</td>\n      <td>Endothelial</td>\n      <td>NaN</td>\n      <td>BMEC</td>\n      <td>1.56</td>\n      <td>24.0</td>\n      <td>XTT</td>\n      <td>0.000</td>\n    </tr>\n    <tr>\n      <th>4</th>\n      <td>Furxhi, 2020</td>\n      <td>CuO</td>\n      <td>40.0</td>\n      <td>NaN</td>\n      <td>NaN</td>\n      <td>-47.6</td>\n      <td>NaN</td>\n      <td>NaN</td>\n      <td>NaN</td>\n      <td>NaN</td>\n      <td>...</td>\n      <td>NaN</td>\n      <td>Rat</td>\n      <td>NaN</td>\n      <td>Endothelial</td>\n      <td>NaN</td>\n      <td>BMEC</td>\n      <td>3.13</td>\n      <td>24.0</td>\n      <td>XTT</td>\n      <td>0.000</td>\n    </tr>\n    <tr>\n      <th>...</th>\n      <td>...</td>\n      <td>...</td>\n      <td>...</td>\n      <td>...</td>\n      <td>...</td>\n      <td>...</td>\n      <td>...</td>\n      <td>...</td>\n      <td>...</td>\n      <td>...</td>\n      <td>...</td>\n      <td>...</td>\n      <td>...</td>\n      <td>...</td>\n      <td>...</td>\n      <td>...</td>\n      <td>...</td>\n      <td>...</td>\n      <td>...</td>\n      <td>...</td>\n      <td>...</td>\n    </tr>\n    <tr>\n      <th>7362</th>\n      <td>Bilal, 2019</td>\n      <td>QD</td>\n      <td>4.9</td>\n      <td>NaN</td>\n      <td>NaN</td>\n      <td>NaN</td>\n      <td>NaN</td>\n      <td>NaN</td>\n      <td>NaN</td>\n      <td>Zwitterion</td>\n      <td>...</td>\n      <td>Aminoacid</td>\n      <td>Human</td>\n      <td>Breast</td>\n      <td>Epithelial</td>\n      <td>Cell-line</td>\n      <td>KPL-4</td>\n      <td>NaN</td>\n      <td>48.0</td>\n      <td>MTT</td>\n      <td>0.426</td>\n    </tr>\n    <tr>\n      <th>7363</th>\n      <td>Bilal, 2019</td>\n      <td>QD</td>\n      <td>5.5</td>\n      <td>NaN</td>\n      <td>NaN</td>\n      <td>NaN</td>\n      <td>NaN</td>\n      <td>NaN</td>\n      <td>NaN</td>\n      <td>Neutral</td>\n      <td>...</td>\n      <td>Lipid</td>\n      <td>Human</td>\n      <td>Cervix</td>\n      <td>Epithelial</td>\n      <td>Cell-line</td>\n      <td>HeLa</td>\n      <td>NaN</td>\n      <td>24.0</td>\n      <td>MTT</td>\n      <td>0.720</td>\n    </tr>\n    <tr>\n      <th>7364</th>\n      <td>Bilal, 2019</td>\n      <td>QD</td>\n      <td>5.5</td>\n      <td>NaN</td>\n      <td>NaN</td>\n      <td>NaN</td>\n      <td>NaN</td>\n      <td>NaN</td>\n      <td>NaN</td>\n      <td>Neutral</td>\n      <td>...</td>\n      <td>Lipid</td>\n      <td>Human</td>\n      <td>Cervix</td>\n      <td>Epithelial</td>\n      <td>Cell-line</td>\n      <td>HeLa</td>\n      <td>NaN</td>\n      <td>48.0</td>\n      <td>MTT</td>\n      <td>0.680</td>\n    </tr>\n    <tr>\n      <th>7365</th>\n      <td>Bilal, 2019</td>\n      <td>QD</td>\n      <td>5.5</td>\n      <td>NaN</td>\n      <td>NaN</td>\n      <td>NaN</td>\n      <td>NaN</td>\n      <td>NaN</td>\n      <td>NaN</td>\n      <td>Neutral</td>\n      <td>...</td>\n      <td>Lipid</td>\n      <td>Human</td>\n      <td>Cervix</td>\n      <td>Epithelial</td>\n      <td>Cell-line</td>\n      <td>HeLa</td>\n      <td>NaN</td>\n      <td>24.0</td>\n      <td>MTT</td>\n      <td>0.730</td>\n    </tr>\n    <tr>\n      <th>7366</th>\n      <td>Bilal, 2019</td>\n      <td>QD</td>\n      <td>5.5</td>\n      <td>NaN</td>\n      <td>NaN</td>\n      <td>NaN</td>\n      <td>NaN</td>\n      <td>NaN</td>\n      <td>NaN</td>\n      <td>Neutral</td>\n      <td>...</td>\n      <td>Lipid</td>\n      <td>Human</td>\n      <td>Cervix</td>\n      <td>Epithelial</td>\n      <td>Cell-line</td>\n      <td>HeLa</td>\n      <td>NaN</td>\n      <td>48.0</td>\n      <td>MTT</td>\n      <td>0.700</td>\n    </tr>\n  </tbody>\n</table>\n<p>7367 rows × 29 columns</p>\n</div>"
     },
     "execution_count": 429,
     "metadata": {},
     "output_type": "execute_result"
    }
   ],
   "source": [
    "df = pd.read_csv('compiled_datasets/complete_nanotox_dataset.csv')\n",
    "df"
   ],
   "metadata": {
    "collapsed": false
   }
  },
  {
   "cell_type": "code",
   "execution_count": 430,
   "outputs": [],
   "source": [
    "# Our attributes are everything in the DF except the target and the source paper\n",
    "X_pre = df.iloc[:, 1:-1]\n",
    "\n",
    "# Our target is cell viability, which we binarize to \"safe\" (0) or \"toxic\" (1)\n",
    "y = (df.values[:, -1] < 0.5).astype(int)\n",
    "\n",
    "# We also keep track of the source documents\n",
    "source = df.values[:, 0]"
   ],
   "metadata": {
    "collapsed": false
   }
  },
  {
   "cell_type": "code",
   "execution_count": 431,
   "outputs": [
    {
     "data": {
      "text/plain": "      NP Type_Ag  NP Type_Al2O3  NP Type_Au  NP Type_C56H103N9O39  \\\n0            0.0            0.0         0.0                   0.0   \n1            0.0            0.0         0.0                   0.0   \n2            0.0            0.0         0.0                   0.0   \n3            0.0            0.0         0.0                   0.0   \n4            0.0            0.0         0.0                   0.0   \n...          ...            ...         ...                   ...   \n7362         0.0            0.0         0.0                   0.0   \n7363         0.0            0.0         0.0                   0.0   \n7364         0.0            0.0         0.0                   0.0   \n7365         0.0            0.0         0.0                   0.0   \n7366         0.0            0.0         0.0                   0.0   \n\n      NP Type_Cu2O  NP Type_CuO  NP Type_Fe3O4  NP Type_Pt  NP Type_QD  \\\n0              0.0          1.0            0.0         0.0         0.0   \n1              0.0          1.0            0.0         0.0         0.0   \n2              0.0          1.0            0.0         0.0         0.0   \n3              0.0          1.0            0.0         0.0         0.0   \n4              0.0          1.0            0.0         0.0         0.0   \n...            ...          ...            ...         ...         ...   \n7362           0.0          0.0            0.0         0.0         1.0   \n7363           0.0          0.0            0.0         0.0         1.0   \n7364           0.0          0.0            0.0         0.0         1.0   \n7365           0.0          0.0            0.0         0.0         1.0   \n7366           0.0          0.0            0.0         0.0         1.0   \n\n      NP Type_SiO2  ...  Assay_Live/Dead  Assay_MTS  Assay_MTT  Assay_NR  \\\n0              0.0  ...              0.0        0.0        0.0       0.0   \n1              0.0  ...              0.0        0.0        0.0       0.0   \n2              0.0  ...              0.0        0.0        0.0       0.0   \n3              0.0  ...              0.0        0.0        0.0       0.0   \n4              0.0  ...              0.0        0.0        0.0       0.0   \n...            ...  ...              ...        ...        ...       ...   \n7362           0.0  ...              0.0        0.0        1.0       0.0   \n7363           0.0  ...              0.0        0.0        1.0       0.0   \n7364           0.0  ...              0.0        0.0        1.0       0.0   \n7365           0.0  ...              0.0        0.0        1.0       0.0   \n7366           0.0  ...              0.0        0.0        1.0       0.0   \n\n      Assay_NRU  Assay_Resazurin  Assay_Trypan Blue  Assay_WST  Assay_missing  \\\n0           0.0              0.0                0.0        0.0            0.0   \n1           0.0              0.0                0.0        0.0            0.0   \n2           0.0              0.0                0.0        0.0            0.0   \n3           0.0              0.0                0.0        0.0            0.0   \n4           0.0              0.0                0.0        0.0            0.0   \n...         ...              ...                ...        ...            ...   \n7362        0.0              0.0                0.0        0.0            0.0   \n7363        0.0              0.0                0.0        0.0            0.0   \n7364        0.0              0.0                0.0        0.0            0.0   \n7365        0.0              0.0                0.0        0.0            0.0   \n7366        0.0              0.0                0.0        0.0            0.0   \n\n      Assay_infrequent  \n0                  1.0  \n1                  1.0  \n2                  1.0  \n3                  1.0  \n4                  1.0  \n...                ...  \n7362               0.0  \n7363               0.0  \n7364               0.0  \n7365               0.0  \n7366               0.0  \n\n[7367 rows x 134 columns]",
      "text/html": "<div>\n<style scoped>\n    .dataframe tbody tr th:only-of-type {\n        vertical-align: middle;\n    }\n\n    .dataframe tbody tr th {\n        vertical-align: top;\n    }\n\n    .dataframe thead th {\n        text-align: right;\n    }\n</style>\n<table border=\"1\" class=\"dataframe\">\n  <thead>\n    <tr style=\"text-align: right;\">\n      <th></th>\n      <th>NP Type_Ag</th>\n      <th>NP Type_Al2O3</th>\n      <th>NP Type_Au</th>\n      <th>NP Type_C56H103N9O39</th>\n      <th>NP Type_Cu2O</th>\n      <th>NP Type_CuO</th>\n      <th>NP Type_Fe3O4</th>\n      <th>NP Type_Pt</th>\n      <th>NP Type_QD</th>\n      <th>NP Type_SiO2</th>\n      <th>...</th>\n      <th>Assay_Live/Dead</th>\n      <th>Assay_MTS</th>\n      <th>Assay_MTT</th>\n      <th>Assay_NR</th>\n      <th>Assay_NRU</th>\n      <th>Assay_Resazurin</th>\n      <th>Assay_Trypan Blue</th>\n      <th>Assay_WST</th>\n      <th>Assay_missing</th>\n      <th>Assay_infrequent</th>\n    </tr>\n  </thead>\n  <tbody>\n    <tr>\n      <th>0</th>\n      <td>0.0</td>\n      <td>0.0</td>\n      <td>0.0</td>\n      <td>0.0</td>\n      <td>0.0</td>\n      <td>1.0</td>\n      <td>0.0</td>\n      <td>0.0</td>\n      <td>0.0</td>\n      <td>0.0</td>\n      <td>...</td>\n      <td>0.0</td>\n      <td>0.0</td>\n      <td>0.0</td>\n      <td>0.0</td>\n      <td>0.0</td>\n      <td>0.0</td>\n      <td>0.0</td>\n      <td>0.0</td>\n      <td>0.0</td>\n      <td>1.0</td>\n    </tr>\n    <tr>\n      <th>1</th>\n      <td>0.0</td>\n      <td>0.0</td>\n      <td>0.0</td>\n      <td>0.0</td>\n      <td>0.0</td>\n      <td>1.0</td>\n      <td>0.0</td>\n      <td>0.0</td>\n      <td>0.0</td>\n      <td>0.0</td>\n      <td>...</td>\n      <td>0.0</td>\n      <td>0.0</td>\n      <td>0.0</td>\n      <td>0.0</td>\n      <td>0.0</td>\n      <td>0.0</td>\n      <td>0.0</td>\n      <td>0.0</td>\n      <td>0.0</td>\n      <td>1.0</td>\n    </tr>\n    <tr>\n      <th>2</th>\n      <td>0.0</td>\n      <td>0.0</td>\n      <td>0.0</td>\n      <td>0.0</td>\n      <td>0.0</td>\n      <td>1.0</td>\n      <td>0.0</td>\n      <td>0.0</td>\n      <td>0.0</td>\n      <td>0.0</td>\n      <td>...</td>\n      <td>0.0</td>\n      <td>0.0</td>\n      <td>0.0</td>\n      <td>0.0</td>\n      <td>0.0</td>\n      <td>0.0</td>\n      <td>0.0</td>\n      <td>0.0</td>\n      <td>0.0</td>\n      <td>1.0</td>\n    </tr>\n    <tr>\n      <th>3</th>\n      <td>0.0</td>\n      <td>0.0</td>\n      <td>0.0</td>\n      <td>0.0</td>\n      <td>0.0</td>\n      <td>1.0</td>\n      <td>0.0</td>\n      <td>0.0</td>\n      <td>0.0</td>\n      <td>0.0</td>\n      <td>...</td>\n      <td>0.0</td>\n      <td>0.0</td>\n      <td>0.0</td>\n      <td>0.0</td>\n      <td>0.0</td>\n      <td>0.0</td>\n      <td>0.0</td>\n      <td>0.0</td>\n      <td>0.0</td>\n      <td>1.0</td>\n    </tr>\n    <tr>\n      <th>4</th>\n      <td>0.0</td>\n      <td>0.0</td>\n      <td>0.0</td>\n      <td>0.0</td>\n      <td>0.0</td>\n      <td>1.0</td>\n      <td>0.0</td>\n      <td>0.0</td>\n      <td>0.0</td>\n      <td>0.0</td>\n      <td>...</td>\n      <td>0.0</td>\n      <td>0.0</td>\n      <td>0.0</td>\n      <td>0.0</td>\n      <td>0.0</td>\n      <td>0.0</td>\n      <td>0.0</td>\n      <td>0.0</td>\n      <td>0.0</td>\n      <td>1.0</td>\n    </tr>\n    <tr>\n      <th>...</th>\n      <td>...</td>\n      <td>...</td>\n      <td>...</td>\n      <td>...</td>\n      <td>...</td>\n      <td>...</td>\n      <td>...</td>\n      <td>...</td>\n      <td>...</td>\n      <td>...</td>\n      <td>...</td>\n      <td>...</td>\n      <td>...</td>\n      <td>...</td>\n      <td>...</td>\n      <td>...</td>\n      <td>...</td>\n      <td>...</td>\n      <td>...</td>\n      <td>...</td>\n      <td>...</td>\n    </tr>\n    <tr>\n      <th>7362</th>\n      <td>0.0</td>\n      <td>0.0</td>\n      <td>0.0</td>\n      <td>0.0</td>\n      <td>0.0</td>\n      <td>0.0</td>\n      <td>0.0</td>\n      <td>0.0</td>\n      <td>1.0</td>\n      <td>0.0</td>\n      <td>...</td>\n      <td>0.0</td>\n      <td>0.0</td>\n      <td>1.0</td>\n      <td>0.0</td>\n      <td>0.0</td>\n      <td>0.0</td>\n      <td>0.0</td>\n      <td>0.0</td>\n      <td>0.0</td>\n      <td>0.0</td>\n    </tr>\n    <tr>\n      <th>7363</th>\n      <td>0.0</td>\n      <td>0.0</td>\n      <td>0.0</td>\n      <td>0.0</td>\n      <td>0.0</td>\n      <td>0.0</td>\n      <td>0.0</td>\n      <td>0.0</td>\n      <td>1.0</td>\n      <td>0.0</td>\n      <td>...</td>\n      <td>0.0</td>\n      <td>0.0</td>\n      <td>1.0</td>\n      <td>0.0</td>\n      <td>0.0</td>\n      <td>0.0</td>\n      <td>0.0</td>\n      <td>0.0</td>\n      <td>0.0</td>\n      <td>0.0</td>\n    </tr>\n    <tr>\n      <th>7364</th>\n      <td>0.0</td>\n      <td>0.0</td>\n      <td>0.0</td>\n      <td>0.0</td>\n      <td>0.0</td>\n      <td>0.0</td>\n      <td>0.0</td>\n      <td>0.0</td>\n      <td>1.0</td>\n      <td>0.0</td>\n      <td>...</td>\n      <td>0.0</td>\n      <td>0.0</td>\n      <td>1.0</td>\n      <td>0.0</td>\n      <td>0.0</td>\n      <td>0.0</td>\n      <td>0.0</td>\n      <td>0.0</td>\n      <td>0.0</td>\n      <td>0.0</td>\n    </tr>\n    <tr>\n      <th>7365</th>\n      <td>0.0</td>\n      <td>0.0</td>\n      <td>0.0</td>\n      <td>0.0</td>\n      <td>0.0</td>\n      <td>0.0</td>\n      <td>0.0</td>\n      <td>0.0</td>\n      <td>1.0</td>\n      <td>0.0</td>\n      <td>...</td>\n      <td>0.0</td>\n      <td>0.0</td>\n      <td>1.0</td>\n      <td>0.0</td>\n      <td>0.0</td>\n      <td>0.0</td>\n      <td>0.0</td>\n      <td>0.0</td>\n      <td>0.0</td>\n      <td>0.0</td>\n    </tr>\n    <tr>\n      <th>7366</th>\n      <td>0.0</td>\n      <td>0.0</td>\n      <td>0.0</td>\n      <td>0.0</td>\n      <td>0.0</td>\n      <td>0.0</td>\n      <td>0.0</td>\n      <td>0.0</td>\n      <td>1.0</td>\n      <td>0.0</td>\n      <td>...</td>\n      <td>0.0</td>\n      <td>0.0</td>\n      <td>1.0</td>\n      <td>0.0</td>\n      <td>0.0</td>\n      <td>0.0</td>\n      <td>0.0</td>\n      <td>0.0</td>\n      <td>0.0</td>\n      <td>0.0</td>\n    </tr>\n  </tbody>\n</table>\n<p>7367 rows × 134 columns</p>\n</div>"
     },
     "execution_count": 431,
     "metadata": {},
     "output_type": "execute_result"
    }
   ],
   "source": [
    "from sklearn.preprocessing import OneHotEncoder\n",
    "\n",
    "# Here we encode the categorical features as one-hot features.\n",
    "# For instance, if a variable has choices A, B, and C, we encode A as [1,0,0], B as [0,1,0], C as [0,0,1]\n",
    "\n",
    "categorical_attrs_mask = df.dtypes[1:-1] == 'object'\n",
    "X_cat = X_pre[X_pre.columns[categorical_attrs_mask]].copy()\n",
    "X_cat = X_cat.fillna('missing')\n",
    "\n",
    "oh = OneHotEncoder(\n",
    "    sparse_output=False,\n",
    "    drop='if_binary',\n",
    "    handle_unknown='infrequent_if_exist',\n",
    "    min_frequency=.01,\n",
    ")\n",
    "X_oh = oh.fit_transform(X_cat)\n",
    "oh_columns = [i.replace('_sklearn', '') for i in oh.get_feature_names_out(oh.feature_names_in_)]\n",
    "X_oh = pd.DataFrame(X_oh, columns=oh_columns)\n",
    "\n",
    "X_oh"
   ],
   "metadata": {
    "collapsed": false
   }
  },
  {
   "cell_type": "code",
   "execution_count": 432,
   "outputs": [],
   "source": [
    "# Here, we extract the numerical features, and add features to denote if their values are missing\n",
    "# We then impute the numerical features with a value of 0.0\n",
    "\n",
    "X_numeric = X_pre[X_pre.columns[~categorical_attrs_mask]].copy()\n",
    "X_missing = pd.DataFrame(X_numeric.isna().values, columns=[f'{i}_missing' for i in X_numeric.columns])\n",
    "X_numeric = X_numeric.fillna(0)"
   ],
   "metadata": {
    "collapsed": false
   }
  },
  {
   "cell_type": "code",
   "execution_count": 433,
   "outputs": [
    {
     "data": {
      "text/plain": "            Source  Size  Surface area  Zeta potential  Hydrodynamic size  \\\n0     Furxhi, 2020  40.0           0.0           -47.6                0.0   \n1     Furxhi, 2020  60.0           0.0           -36.6                0.0   \n2     Furxhi, 2020  40.0           0.0           -47.6                0.0   \n3     Furxhi, 2020  60.0           0.0           -36.6                0.0   \n4     Furxhi, 2020  40.0           0.0           -47.6                0.0   \n...            ...   ...           ...             ...                ...   \n7360   Bilal, 2019   5.0           0.0             0.0                0.0   \n7361   Bilal, 2019   4.9           0.0             0.0                0.0   \n7362   Bilal, 2019   4.9           0.0             0.0                0.0   \n7363   Bilal, 2019   5.5           0.0             0.0                0.0   \n7364   Bilal, 2019   5.5           0.0             0.0                0.0   \n\n      Molecular weight  Surface charge  Electronegativity  Ionic radius  \\\n0                  0.0             0.0                0.0           0.0   \n1                  0.0             0.0                0.0           0.0   \n2                  0.0             0.0                0.0           0.0   \n3                  0.0             0.0                0.0           0.0   \n4                  0.0             0.0                0.0           0.0   \n...                ...             ...                ...           ...   \n7360               0.0             0.0                0.0           0.0   \n7361               0.0             0.0                0.0           0.0   \n7362               0.0             0.0                0.0           0.0   \n7363               0.0             0.0                0.0           0.0   \n7364               0.0             0.0                0.0           0.0   \n\n      QD Concentration  ...  Assay_MTS  Assay_MTT  Assay_NR  Assay_NRU  \\\n0                  0.0  ...        0.0        0.0       0.0        0.0   \n1                  0.0  ...        0.0        0.0       0.0        0.0   \n2                  0.0  ...        0.0        0.0       0.0        0.0   \n3                  0.0  ...        0.0        0.0       0.0        0.0   \n4                  0.0  ...        0.0        0.0       0.0        0.0   \n...                ...  ...        ...        ...       ...        ...   \n7360            5600.0  ...        0.0        1.0       0.0        0.0   \n7361              50.0  ...        0.0        1.0       0.0        0.0   \n7362              50.0  ...        0.0        1.0       0.0        0.0   \n7363              20.0  ...        0.0        1.0       0.0        0.0   \n7364              20.0  ...        0.0        1.0       0.0        0.0   \n\n      Assay_Resazurin  Assay_Trypan Blue  Assay_WST  Assay_missing  \\\n0                 0.0                0.0        0.0            0.0   \n1                 0.0                0.0        0.0            0.0   \n2                 0.0                0.0        0.0            0.0   \n3                 0.0                0.0        0.0            0.0   \n4                 0.0                0.0        0.0            0.0   \n...               ...                ...        ...            ...   \n7360              0.0                0.0        0.0            0.0   \n7361              0.0                0.0        0.0            0.0   \n7362              0.0                0.0        0.0            0.0   \n7363              0.0                0.0        0.0            0.0   \n7364              0.0                0.0        0.0            0.0   \n\n      Assay_infrequent  Cell Viability  \n0                  1.0               1  \n1                  1.0               1  \n2                  1.0               1  \n3                  1.0               1  \n4                  1.0               1  \n...                ...             ...  \n7360               0.0               1  \n7361               0.0               0  \n7362               0.0               1  \n7363               0.0               0  \n7364               0.0               0  \n\n[6324 rows x 160 columns]",
      "text/html": "<div>\n<style scoped>\n    .dataframe tbody tr th:only-of-type {\n        vertical-align: middle;\n    }\n\n    .dataframe tbody tr th {\n        vertical-align: top;\n    }\n\n    .dataframe thead th {\n        text-align: right;\n    }\n</style>\n<table border=\"1\" class=\"dataframe\">\n  <thead>\n    <tr style=\"text-align: right;\">\n      <th></th>\n      <th>Source</th>\n      <th>Size</th>\n      <th>Surface area</th>\n      <th>Zeta potential</th>\n      <th>Hydrodynamic size</th>\n      <th>Molecular weight</th>\n      <th>Surface charge</th>\n      <th>Electronegativity</th>\n      <th>Ionic radius</th>\n      <th>QD Concentration</th>\n      <th>...</th>\n      <th>Assay_MTS</th>\n      <th>Assay_MTT</th>\n      <th>Assay_NR</th>\n      <th>Assay_NRU</th>\n      <th>Assay_Resazurin</th>\n      <th>Assay_Trypan Blue</th>\n      <th>Assay_WST</th>\n      <th>Assay_missing</th>\n      <th>Assay_infrequent</th>\n      <th>Cell Viability</th>\n    </tr>\n  </thead>\n  <tbody>\n    <tr>\n      <th>0</th>\n      <td>Furxhi, 2020</td>\n      <td>40.0</td>\n      <td>0.0</td>\n      <td>-47.6</td>\n      <td>0.0</td>\n      <td>0.0</td>\n      <td>0.0</td>\n      <td>0.0</td>\n      <td>0.0</td>\n      <td>0.0</td>\n      <td>...</td>\n      <td>0.0</td>\n      <td>0.0</td>\n      <td>0.0</td>\n      <td>0.0</td>\n      <td>0.0</td>\n      <td>0.0</td>\n      <td>0.0</td>\n      <td>0.0</td>\n      <td>1.0</td>\n      <td>1</td>\n    </tr>\n    <tr>\n      <th>1</th>\n      <td>Furxhi, 2020</td>\n      <td>60.0</td>\n      <td>0.0</td>\n      <td>-36.6</td>\n      <td>0.0</td>\n      <td>0.0</td>\n      <td>0.0</td>\n      <td>0.0</td>\n      <td>0.0</td>\n      <td>0.0</td>\n      <td>...</td>\n      <td>0.0</td>\n      <td>0.0</td>\n      <td>0.0</td>\n      <td>0.0</td>\n      <td>0.0</td>\n      <td>0.0</td>\n      <td>0.0</td>\n      <td>0.0</td>\n      <td>1.0</td>\n      <td>1</td>\n    </tr>\n    <tr>\n      <th>2</th>\n      <td>Furxhi, 2020</td>\n      <td>40.0</td>\n      <td>0.0</td>\n      <td>-47.6</td>\n      <td>0.0</td>\n      <td>0.0</td>\n      <td>0.0</td>\n      <td>0.0</td>\n      <td>0.0</td>\n      <td>0.0</td>\n      <td>...</td>\n      <td>0.0</td>\n      <td>0.0</td>\n      <td>0.0</td>\n      <td>0.0</td>\n      <td>0.0</td>\n      <td>0.0</td>\n      <td>0.0</td>\n      <td>0.0</td>\n      <td>1.0</td>\n      <td>1</td>\n    </tr>\n    <tr>\n      <th>3</th>\n      <td>Furxhi, 2020</td>\n      <td>60.0</td>\n      <td>0.0</td>\n      <td>-36.6</td>\n      <td>0.0</td>\n      <td>0.0</td>\n      <td>0.0</td>\n      <td>0.0</td>\n      <td>0.0</td>\n      <td>0.0</td>\n      <td>...</td>\n      <td>0.0</td>\n      <td>0.0</td>\n      <td>0.0</td>\n      <td>0.0</td>\n      <td>0.0</td>\n      <td>0.0</td>\n      <td>0.0</td>\n      <td>0.0</td>\n      <td>1.0</td>\n      <td>1</td>\n    </tr>\n    <tr>\n      <th>4</th>\n      <td>Furxhi, 2020</td>\n      <td>40.0</td>\n      <td>0.0</td>\n      <td>-47.6</td>\n      <td>0.0</td>\n      <td>0.0</td>\n      <td>0.0</td>\n      <td>0.0</td>\n      <td>0.0</td>\n      <td>0.0</td>\n      <td>...</td>\n      <td>0.0</td>\n      <td>0.0</td>\n      <td>0.0</td>\n      <td>0.0</td>\n      <td>0.0</td>\n      <td>0.0</td>\n      <td>0.0</td>\n      <td>0.0</td>\n      <td>1.0</td>\n      <td>1</td>\n    </tr>\n    <tr>\n      <th>...</th>\n      <td>...</td>\n      <td>...</td>\n      <td>...</td>\n      <td>...</td>\n      <td>...</td>\n      <td>...</td>\n      <td>...</td>\n      <td>...</td>\n      <td>...</td>\n      <td>...</td>\n      <td>...</td>\n      <td>...</td>\n      <td>...</td>\n      <td>...</td>\n      <td>...</td>\n      <td>...</td>\n      <td>...</td>\n      <td>...</td>\n      <td>...</td>\n      <td>...</td>\n      <td>...</td>\n    </tr>\n    <tr>\n      <th>7360</th>\n      <td>Bilal, 2019</td>\n      <td>5.0</td>\n      <td>0.0</td>\n      <td>0.0</td>\n      <td>0.0</td>\n      <td>0.0</td>\n      <td>0.0</td>\n      <td>0.0</td>\n      <td>0.0</td>\n      <td>5600.0</td>\n      <td>...</td>\n      <td>0.0</td>\n      <td>1.0</td>\n      <td>0.0</td>\n      <td>0.0</td>\n      <td>0.0</td>\n      <td>0.0</td>\n      <td>0.0</td>\n      <td>0.0</td>\n      <td>0.0</td>\n      <td>1</td>\n    </tr>\n    <tr>\n      <th>7361</th>\n      <td>Bilal, 2019</td>\n      <td>4.9</td>\n      <td>0.0</td>\n      <td>0.0</td>\n      <td>0.0</td>\n      <td>0.0</td>\n      <td>0.0</td>\n      <td>0.0</td>\n      <td>0.0</td>\n      <td>50.0</td>\n      <td>...</td>\n      <td>0.0</td>\n      <td>1.0</td>\n      <td>0.0</td>\n      <td>0.0</td>\n      <td>0.0</td>\n      <td>0.0</td>\n      <td>0.0</td>\n      <td>0.0</td>\n      <td>0.0</td>\n      <td>0</td>\n    </tr>\n    <tr>\n      <th>7362</th>\n      <td>Bilal, 2019</td>\n      <td>4.9</td>\n      <td>0.0</td>\n      <td>0.0</td>\n      <td>0.0</td>\n      <td>0.0</td>\n      <td>0.0</td>\n      <td>0.0</td>\n      <td>0.0</td>\n      <td>50.0</td>\n      <td>...</td>\n      <td>0.0</td>\n      <td>1.0</td>\n      <td>0.0</td>\n      <td>0.0</td>\n      <td>0.0</td>\n      <td>0.0</td>\n      <td>0.0</td>\n      <td>0.0</td>\n      <td>0.0</td>\n      <td>1</td>\n    </tr>\n    <tr>\n      <th>7363</th>\n      <td>Bilal, 2019</td>\n      <td>5.5</td>\n      <td>0.0</td>\n      <td>0.0</td>\n      <td>0.0</td>\n      <td>0.0</td>\n      <td>0.0</td>\n      <td>0.0</td>\n      <td>0.0</td>\n      <td>20.0</td>\n      <td>...</td>\n      <td>0.0</td>\n      <td>1.0</td>\n      <td>0.0</td>\n      <td>0.0</td>\n      <td>0.0</td>\n      <td>0.0</td>\n      <td>0.0</td>\n      <td>0.0</td>\n      <td>0.0</td>\n      <td>0</td>\n    </tr>\n    <tr>\n      <th>7364</th>\n      <td>Bilal, 2019</td>\n      <td>5.5</td>\n      <td>0.0</td>\n      <td>0.0</td>\n      <td>0.0</td>\n      <td>0.0</td>\n      <td>0.0</td>\n      <td>0.0</td>\n      <td>0.0</td>\n      <td>20.0</td>\n      <td>...</td>\n      <td>0.0</td>\n      <td>1.0</td>\n      <td>0.0</td>\n      <td>0.0</td>\n      <td>0.0</td>\n      <td>0.0</td>\n      <td>0.0</td>\n      <td>0.0</td>\n      <td>0.0</td>\n      <td>0</td>\n    </tr>\n  </tbody>\n</table>\n<p>6324 rows × 160 columns</p>\n</div>"
     },
     "execution_count": 433,
     "metadata": {},
     "output_type": "execute_result"
    }
   ],
   "source": [
    "# Concatenate the different feature dataframes\n",
    "df_full = pd.concat((X_numeric, X_missing, X_oh), axis=1)\n",
    "\n",
    "# Add our target (cell viability) and paper source\n",
    "df_full['Cell Viability'] = y\n",
    "df_full['Source'] = source\n",
    "\n",
    "# Reorder the columns for visualization\n",
    "df_full = df_full[['Source', *df_full.columns[:-1]]]\n",
    "\n",
    "# Drop duplicates based on everything but the source\n",
    "df_full = df_full.drop_duplicates(subset=df_full.columns[1:])\n",
    "df_full"
   ],
   "metadata": {
    "collapsed": false
   }
  },
  {
   "cell_type": "code",
   "execution_count": 434,
   "outputs": [],
   "source": [
    "# Save to file\n",
    "df_full.to_csv('compiled_datasets/nanotox_features_dataset.csv', index=False)"
   ],
   "metadata": {
    "collapsed": false
   }
  },
  {
   "cell_type": "code",
   "execution_count": null,
   "outputs": [],
   "source": [],
   "metadata": {
    "collapsed": false
   }
  }
 ],
 "metadata": {
  "kernelspec": {
   "display_name": "Python 3",
   "language": "python",
   "name": "python3"
  },
  "language_info": {
   "codemirror_mode": {
    "name": "ipython",
    "version": 2
   },
   "file_extension": ".py",
   "mimetype": "text/x-python",
   "name": "python",
   "nbconvert_exporter": "python",
   "pygments_lexer": "ipython2",
   "version": "2.7.6"
  }
 },
 "nbformat": 4,
 "nbformat_minor": 0
}
