{
 "cells": [
  {
   "cell_type": "markdown",
   "source": [
    "Here, we run a simple test. We compare accuracy predicting a source, given just that source's data, to predicting a source, given the entire compiled dataset. This is a demonstration of the \"Generalization across assays, cell types, NP types, etc.\" section of the project report.\n",
    "\n",
    "We do a class-balanced (stratified K-fold) on the source in question, and train two models for each fold -- one with only access to the source's dataset, and one with access to the entire dataset."
   ],
   "metadata": {
    "collapsed": false
   }
  },
  {
   "cell_type": "code",
   "execution_count": 153,
   "outputs": [],
   "source": [
    "import numpy as np\n",
    "import pandas as pd"
   ],
   "metadata": {
    "collapsed": false
   }
  },
  {
   "cell_type": "code",
   "execution_count": 154,
   "outputs": [],
   "source": [
    "# Load in the dataset\n",
    "df = pd.read_csv('compiled_datasets/nanotox_features_dataset.csv')\n",
    "X = df.values[:, 1:-1]\n",
    "y = df['Cell Viability'].values"
   ],
   "metadata": {
    "collapsed": false
   }
  },
  {
   "cell_type": "code",
   "execution_count": 156,
   "metadata": {
    "collapsed": true
   },
   "outputs": [],
   "source": [
    "# Generate the train/test splits\n",
    "from sklearn.model_selection import StratifiedKFold\n",
    "\n",
    "source_values = df['Source'].values\n",
    "source_to_comp = 'Subramanian, 2021'\n",
    "rs = 999\n",
    "\n",
    "source_mask = np.where(source_values == source_to_comp)[0]\n",
    "oo_source_mask = np.where(source_values != source_to_comp)[0]\n",
    "\n",
    "skf = StratifiedKFold(n_splits=3, shuffle=True, random_state=rs)\n",
    "within_source_splits = [\n",
    "    (source_mask[trn], source_mask[tst])\n",
    "    for trn, tst in skf.split(np.zeros_like(source_mask), y[source_mask])\n",
    "]\n",
    "oo_source_splits = [\n",
    "    (np.concatenate((oo_source_mask, trn)), tst)\n",
    "    for trn, tst in within_source_splits\n",
    "]"
   ]
  },
  {
   "cell_type": "code",
   "execution_count": 158,
   "outputs": [
    {
     "data": {
      "text/plain": "{'fit_time': (0.18665568033854166, 0.004147575493459726),\n 'score_time': (0.029611984888712566, 0.0007170995242080531),\n 'test_accuracy': (0.8680847220340514, 0.035855387345060746),\n 'test_balanced_accuracy': (0.7139877031181379, 0.06586925987457957),\n 'test_roc_auc': (0.9436492727006561, 0.0168263267092698),\n 'test_recall': (0.4683794466403162, 0.11880741790663352)}"
     },
     "execution_count": 158,
     "metadata": {},
     "output_type": "execute_result"
    }
   ],
   "source": [
    "from sklearn.model_selection import cross_validate\n",
    "from sklearn.ensemble import RandomForestClassifier\n",
    "\n",
    "# Train the model on just the source in question\n",
    "model = RandomForestClassifier(class_weight='balanced')\n",
    "\n",
    "{\n",
    "    name: (np.mean(vals), np.std(vals))\n",
    "    for name, vals in\n",
    "    cross_validate(\n",
    "        estimator=model,\n",
    "        X=X, y=y, cv=within_source_splits,\n",
    "        n_jobs=-1,\n",
    "        scoring=['accuracy', 'balanced_accuracy', 'roc_auc', 'recall']\n",
    "    ).items()\n",
    "}"
   ],
   "metadata": {
    "collapsed": false
   }
  },
  {
   "cell_type": "code",
   "execution_count": 159,
   "outputs": [
    {
     "data": {
      "text/plain": "{'fit_time': (1.2057866255442302, 0.01910808896375511),\n 'score_time': (0.03050971031188965, 0.00027944556075204486),\n 'test_accuracy': (0.8735943639073297, 0.028221035620313837),\n 'test_balanced_accuracy': (0.7517029209575794, 0.051358046821068835),\n 'test_roc_auc': (0.9502311844209078, 0.022102898546548722),\n 'test_recall': (0.5573122529644269, 0.1015946121141344)}"
     },
     "execution_count": 159,
     "metadata": {},
     "output_type": "execute_result"
    }
   ],
   "source": [
    "# Train the model using the entire dataset as background\n",
    "{\n",
    "    name: (np.mean(vals), np.std(vals))\n",
    "    for name, vals in\n",
    "    cross_validate(\n",
    "        estimator=model,\n",
    "        X=X, y=y, cv=oo_source_splits,\n",
    "        n_jobs=-1,\n",
    "        scoring=['accuracy', 'balanced_accuracy', 'roc_auc', 'recall']\n",
    "    ).items()\n",
    "}"
   ],
   "metadata": {
    "collapsed": false
   }
  },
  {
   "cell_type": "code",
   "execution_count": 159,
   "outputs": [],
   "source": [],
   "metadata": {
    "collapsed": false
   }
  }
 ],
 "metadata": {
  "kernelspec": {
   "display_name": "Python 3",
   "language": "python",
   "name": "python3"
  },
  "language_info": {
   "codemirror_mode": {
    "name": "ipython",
    "version": 2
   },
   "file_extension": ".py",
   "mimetype": "text/x-python",
   "name": "python",
   "nbconvert_exporter": "python",
   "pygments_lexer": "ipython2",
   "version": "2.7.6"
  }
 },
 "nbformat": 4,
 "nbformat_minor": 0
}
